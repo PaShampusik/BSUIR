{
 "cells": [
  {
   "cell_type": "markdown",
   "id": "0c8f1a1f",
   "metadata": {},
   "source": [
    "### Лабораторная работа 2. "
   ]
  },
  {
   "cell_type": "markdown",
   "id": "a1b8035d",
   "metadata": {},
   "source": [
    "#### Задание 1. ИМИТАЦИЯ НЕПРЕРЫВНЫХ СЛУЧАЙНЫХ ВЕЛИЧИН (МЕТОД ОБРАТНЫХ ФУНКЦИЙ)"
   ]
  },
  {
   "cell_type": "code",
   "id": "080b838d",
   "metadata": {
    "ExecuteTime": {
     "end_time": "2024-10-07T09:54:22.802659Z",
     "start_time": "2024-10-07T09:54:22.779356Z"
    }
   },
   "source": [
    "from random import random, uniform\n",
    "from math import erf, log, exp\n",
    "import numpy as np\n",
    "import matplotlib.pyplot as plt\n",
    "from sympy import *\n",
    "from sympy import simplify\n",
    "from sympy.abc import x, y\n",
    "from sympy.calculus.util import continuous_domain\n",
    "from scipy.stats import norm, chi2\n"
   ],
   "outputs": [],
   "execution_count": 318
  },
  {
   "cell_type": "code",
   "id": "f728d44a",
   "metadata": {
    "ExecuteTime": {
     "end_time": "2024-10-07T09:54:22.839908Z",
     "start_time": "2024-10-07T09:54:22.813603Z"
    }
   },
   "source": [
    "inverse_function = \"\"\n",
    "distribution_expression = \"\"\n",
    "plt.rcParams[\"figure.figsize\"] = (10, 30)\n",
    "number_of_dots = 1000\n",
    "gamma = 0.95 # уровень доверия\n",
    "hypothesis_error_value = 0.05 "
   ],
   "outputs": [],
   "execution_count": 319
  },
  {
   "cell_type": "markdown",
   "id": "213af841",
   "metadata": {},
   "source": [
    "#### Линейный конгруэнтный метод"
   ]
  },
  {
   "cell_type": "code",
   "id": "1848a6a7",
   "metadata": {
    "ExecuteTime": {
     "end_time": "2024-10-07T09:54:22.880660Z",
     "start_time": "2024-10-07T09:54:22.872919Z"
    }
   },
   "source": [
    "# Линейный конгруэнтный метод \n",
    "class CustomGenerator:\n",
    "    seed = 42\n",
    "    alpha = 1664525\n",
    "    c = 1013904223\n",
    "    m = 2 ** 32\n",
    "    x_current = seed\n",
    "    \n",
    "    @staticmethod\n",
    "    def random():\n",
    "        CustomGenerator.x_current = (CustomGenerator.alpha * CustomGenerator.x_current + CustomGenerator.c) % CustomGenerator.m\n",
    "        return CustomGenerator.x_current / CustomGenerator.m"
   ],
   "outputs": [],
   "execution_count": 320
  },
  {
   "cell_type": "markdown",
   "id": "eed5734c",
   "metadata": {},
   "source": [
    "#### Поиск обратной функции"
   ]
  },
  {
   "cell_type": "code",
   "id": "cee4c81b",
   "metadata": {
    "ExecuteTime": {
     "end_time": "2024-10-07T09:54:22.961491Z",
     "start_time": "2024-10-07T09:54:22.951565Z"
    }
   },
   "source": [
    "def find_inverse_function(input_text): \n",
    "    global inverse_function\n",
    "    ex = sympify(input_text)\n",
    "    distribution_expression = ex\n",
    "    extra = ex - y\n",
    "    results = solve(extra, x)\n",
    "    # print(results)\n",
    "    \n",
    "    is_found = False\n",
    "    for result in results:\n",
    "        is_continuous = continuous_domain(result, y, S.Reals).is_proper_superset(Interval(0, 1))\n",
    "        derivative = diff(result, y)\n",
    "        derivative_positive = solve(derivative > 0, y, domain=S.Reals)\n",
    "        if derivative_positive and is_continuous:\n",
    "            print(f\"Обратная функция: {result}\")\n",
    "            inverse_function = lambdify(y, result)\n",
    "            is_found = True\n",
    "            break\n",
    "\n",
    "    if not is_found:\n",
    "        print(\"обратная функция не найдена\")\n"
   ],
   "outputs": [],
   "execution_count": 321
  },
  {
   "cell_type": "markdown",
   "id": "079eff4f",
   "metadata": {},
   "source": [
    "#### Генерация значений"
   ]
  },
  {
   "cell_type": "code",
   "id": "38ff8043",
   "metadata": {
    "ExecuteTime": {
     "end_time": "2024-10-07T09:54:22.982851Z",
     "start_time": "2024-10-07T09:54:22.973510Z"
    }
   },
   "source": [
    "generator = CustomGenerator()\n",
    "\n",
    "def generate_func_data(amount):\n",
    "    global inverse_function\n",
    "    data=[]\n",
    "    for i in range(amount):\n",
    "        y = generator.random()\n",
    "        data.append(inverse_function(y))\n",
    "    return data"
   ],
   "outputs": [],
   "execution_count": 322
  },
  {
   "cell_type": "markdown",
   "id": "54abb6fd",
   "metadata": {},
   "source": [
    "#### Нахождение матожидайний"
   ]
  },
  {
   "cell_type": "code",
   "id": "09788a30",
   "metadata": {
    "ExecuteTime": {
     "end_time": "2024-10-07T09:54:23.057011Z",
     "start_time": "2024-10-07T09:54:23.048858Z"
    }
   },
   "source": [
    "def calculate_sample_mean(sample):\n",
    "    return sum(sample) / len(sample)\n",
    "\n",
    "def calculate_theoretical_mean(func, limits):\n",
    "    return integrate(x * func, (x, limits[0], limits[1]))"
   ],
   "outputs": [],
   "execution_count": 323
  },
  {
   "cell_type": "markdown",
   "id": "faee0261",
   "metadata": {},
   "source": [
    "#### Нахождение дисперсий"
   ]
  },
  {
   "cell_type": "code",
   "id": "f0135898",
   "metadata": {
    "ExecuteTime": {
     "end_time": "2024-10-07T09:54:23.093132Z",
     "start_time": "2024-10-07T09:54:23.073670Z"
    }
   },
   "source": [
    "def calculate_sample_variance(sample):\n",
    "    sample_mean = calculate_sample_mean(sample)\n",
    "    variance = sum((x - sample_mean) ** 2 for x in sample) / len(sample)\n",
    "    return variance\n",
    "\n",
    "def calculate_theoretical_variance(func, limits, theoretical_mean):\n",
    "    integral = integrate(x ** 2 * func, (x, limits[0], limits[1]))\n",
    "    theoretical_variance = integral - theoretical_mean ** 2\n",
    "    return theoretical_variance.evalf()"
   ],
   "outputs": [],
   "execution_count": 324
  },
  {
   "cell_type": "code",
   "id": "2f481731",
   "metadata": {
    "ExecuteTime": {
     "end_time": "2024-10-07T09:54:23.175255Z",
     "start_time": "2024-10-07T09:54:23.165278Z"
    }
   },
   "source": [
    "# confidence interval\n",
    "def get_delta(offset):\n",
    "    t = norm.ppf(gamma / 2 + 0.5) # квантили\n",
    "    return t * offset / np.sqrt(number_of_tests) # Margin of Error\n",
    "\n",
    "def get_offset_delta(test_offset): # build confidence level (хи квадрат)\n",
    "    alphas = ((1 - gamma) / 2, (1 + gamma) / 2)  #границы для вычисления квантили хиквадрат распределения\n",
    "    chis = (chi2.isf(alphas, number_of_tests - 1)) \n",
    "    temp = np.sqrt(number_of_tests - 1) * test_offset\n",
    "    \n",
    "    return (temp / np.sqrt(chis[0]), temp / np.sqrt(chis[1]))"
   ],
   "outputs": [],
   "execution_count": 325
  },
  {
   "cell_type": "markdown",
   "id": "1018d2ac",
   "metadata": {},
   "source": [
    "#### Непрерывная случайная величина"
   ]
  },
  {
   "cell_type": "code",
   "id": "7e2f4d5c",
   "metadata": {
    "ExecuteTime": {
     "end_time": "2024-10-07T09:54:31.712604Z",
     "start_time": "2024-10-07T09:54:23.209563Z"
    }
   },
   "source": [
    "func = input(\"Your function:\\n\")\n",
    "find_inverse_function(func)\n"
   ],
   "outputs": [
    {
     "name": "stdout",
     "output_type": "stream",
     "text": [
      "Обратная функция: sqrt(4*y + 1)/2 + 1/2\n"
     ]
    }
   ],
   "execution_count": 326
  },
  {
   "cell_type": "code",
   "id": "13059bcf",
   "metadata": {
    "ExecuteTime": {
     "end_time": "2024-10-07T09:54:34.482909Z",
     "start_time": "2024-10-07T09:54:31.741813Z"
    }
   },
   "source": [
    "number_of_tests = int(input(\"Amount of random values:\\n\"))\n",
    "\n",
    "func_data = generate_func_data(number_of_tests)\n",
    "\n",
    "limits = (inverse_function(0), inverse_function(1))"
   ],
   "outputs": [],
   "execution_count": 327
  },
  {
   "cell_type": "code",
   "id": "963147bd",
   "metadata": {
    "ExecuteTime": {
     "end_time": "2024-10-07T09:54:34.608058Z",
     "start_time": "2024-10-07T09:54:34.519767Z"
    }
   },
   "source": [
    "ex = simplify(func)\n",
    "derivate = diff(ex, x)\n",
    "\n",
    "sample_mean = calculate_sample_mean(func_data) \n",
    "sample_variance = calculate_sample_variance(func_data) \n",
    "sample_std_deviation = sqrt(sample_variance)\n",
    "\n",
    "theoretical_mean = calculate_theoretical_mean(derivate, limits)\n",
    "theoretical_variance = calculate_theoretical_variance(derivate, limits, theoretical_mean)\n",
    "theoretical_std_deviation = sqrt(theoretical_variance)"
   ],
   "outputs": [],
   "execution_count": 328
  },
  {
   "cell_type": "code",
   "id": "d571ed69",
   "metadata": {
    "ExecuteTime": {
     "end_time": "2024-10-07T09:54:34.660952Z",
     "start_time": "2024-10-07T09:54:34.644788Z"
    }
   },
   "source": [
    "print(sample_mean)\n",
    "print(sample_variance)\n",
    "print(sample_std_deviation)\n",
    "\n",
    "print(theoretical_mean)\n",
    "print(theoretical_variance)\n",
    "print(theoretical_std_deviation)"
   ],
   "outputs": [
    {
     "name": "stdout",
     "output_type": "stream",
     "text": [
      "1.3508548272330076\n",
      "0.032525827904261555\n",
      "0.180349183264748\n",
      "1.34836165729158\n",
      "0.0302824984374856\n",
      "0.174018672669015\n"
     ]
    }
   ],
   "execution_count": 329
  },
  {
   "cell_type": "code",
   "id": "b3d96b85",
   "metadata": {
    "ExecuteTime": {
     "end_time": "2024-10-07T09:54:37.707335Z",
     "start_time": "2024-10-07T09:54:34.720601Z"
    }
   },
   "source": [
    "hist, bins = np.histogram(func_data, bins=number_of_dots, range=limits)\n",
    "plt.subplot(6, 1, 1)  \n",
    "plt.tight_layout(pad = 5)\n",
    "plt.hist(x=func_data, color=\"blue\", bins=number_of_dots, range=limits)\n",
    "plt.xlim(limits)\n",
    "plt.title(\"Плотность распределения\")\n",
    "    \n",
    "\n",
    "# building derivate plot\n",
    "derivative_expr = diff(ex, x)\n",
    "    \n",
    "length = (limits[1] - limits[0]) / number_of_dots # step\n",
    "dots = np.arange(limits[0] + length / 2, limits[1], length) # Точки для оценки производной\n",
    "derivative = lambdify(x, length * number_of_tests * derivative_expr)\n",
    "results = list(map(derivative, dots))\n",
    "plt.plot(dots, results, marker=11, color=\"black\")\n",
    "    \n",
    "# гистограмма накопленных частот\n",
    "extra_hist = hist.copy()\n",
    "    \n",
    "for i in range(1, len(hist)):\n",
    "    extra_hist[i] += extra_hist[i-1]\n",
    "        \n",
    "plt.subplot(6, 1, 2)\n",
    "ax = plt.gca()\n",
    "ax.bar(bins[:-1], extra_hist, width = length, align=\"edge\", color='green')\n",
    "\n",
    "distribution_function = lambdify(x, number_of_tests * ex)\n",
    "distribution_dots = np.arange(limits[0] + length, limits[1] + length / 10, length)\n",
    "distribution_results = list(map(distribution_function, distribution_dots))\n",
    "    \n",
    "plt.plot(distribution_dots, distribution_results, marker=11, color=\"black\")\n",
    "plt.title(\"Функция распределения\")\n",
    "plt.show()"
   ],
   "outputs": [
    {
     "data": {
      "text/plain": [
       "<Figure size 1000x3000 with 2 Axes>"
      ],
      "image/png": "[encoded data removed]"
     },
     "metadata": {},
     "output_type": "display_data"
    }
   ],
   "execution_count": 330
  },
  {
   "cell_type": "code",
   "id": "9c30ffcd",
   "metadata": {
    "ExecuteTime": {
     "end_time": "2024-10-07T09:54:37.763231Z",
     "start_time": "2024-10-07T09:54:37.752479Z"
    }
   },
   "source": [
    "delta = get_delta(theoretical_std_deviation)\n",
    "offset_delta = get_offset_delta(sample_std_deviation)"
   ],
   "outputs": [],
   "execution_count": 331
  },
  {
   "cell_type": "code",
   "id": "b412b324",
   "metadata": {
    "ExecuteTime": {
     "end_time": "2024-10-07T09:54:37.852149Z",
     "start_time": "2024-10-07T09:54:37.839763Z"
    }
   },
   "source": [
    "from IPython.display import HTML, display\n",
    "\n",
    "val = np.square(offset_delta)\n",
    "\n",
    "def display_table(data):\n",
    "    html = \"<table>\"\n",
    "    for row in data:\n",
    "        html += \"<tr>\"\n",
    "        for field in row:\n",
    "            html += \"<td><h4>%s</h4></td>\" % (field)\n",
    "        html += \"</tr>\"\n",
    "    html += \"</table>\"\n",
    "    display(HTML(html))\n",
    "\n",
    "\n",
    "data = [['Опиcание', 'Мат ожидание', 'Дисперсия'],\n",
    "        ['Выборочно', sample_mean, sample_variance],\n",
    "        ['Теоретическое', theoretical_mean, theoretical_variance],\n",
    "        ['Доверительный интервал начало', sample_mean-delta,val[0]],\n",
    "        ['Доверительный интервал конец',sample_mean+delta,val[1]]]\n",
    "\n",
    "display_table(data)"
   ],
   "outputs": [
    {
     "data": {
      "text/plain": [
       "<IPython.core.display.HTML object>"
      ],
      "text/html": [
       "<table><tr><td><h4>Опиcание</h4></td><td><h4>Мат ожидание</h4></td><td><h4>Дисперсия</h4></td></tr><tr><td><h4>Выборочно</h4></td><td><h4>1.3508548272330076</h4></td><td><h4>0.032525827904261555</h4></td></tr><tr><td><h4>Теоретическое</h4></td><td><h4>1.34836165729158</h4></td><td><h4>0.0302824984374856</h4></td></tr><tr><td><h4>Доверительный интервал начало</h4></td><td><h4>1.31674779412613</h4></td><td><h4>0.0250740312973369</h4></td></tr><tr><td><h4>Доверительный интервал конец</h4></td><td><h4>1.38496186033988</h4></td><td><h4>0.0438932599428175</h4></td></tr></table>"
      ]
     },
     "metadata": {},
     "output_type": "display_data"
    }
   ],
   "execution_count": 332
  },
  {
   "cell_type": "code",
   "id": "15b9bc61",
   "metadata": {
    "ExecuteTime": {
     "end_time": "2024-10-07T09:54:37.955893Z",
     "start_time": "2024-10-07T09:54:37.944092Z"
    }
   },
   "source": [
    "k = number_of_dots - 2 - 1 # число степеней свободы\n",
    "critical_value = chi2.isf(hypothesis_error_value, k)\n",
    "normal_value = 0\n",
    "    \n",
    "for i in range(number_of_dots):\n",
    "    normal_value += np.square(hist[i] - results[i]) / results[i]"
   ],
   "outputs": [],
   "execution_count": 333
  },
  {
   "cell_type": "code",
   "id": "f9d2cd89",
   "metadata": {
    "scrolled": true,
    "ExecuteTime": {
     "end_time": "2024-10-07T09:54:38.017765Z",
     "start_time": "2024-10-07T09:54:38.003931Z"
    }
   },
   "source": [
    "result_for_print = \"принимаем\" if normal_value < critical_value else \"отвергаем\"\n",
    "data1 = [['Описание', 'Значение'],\n",
    "         [\"Критический хи-квадрат\",critical_value],\n",
    "         [\"хи-квадрат выборки\",normal_value],\n",
    "         [\"Гипотезу согласия\",result_for_print]]\n",
    "\n",
    "display_table(data1)\n",
    "    "
   ],
   "outputs": [
    {
     "data": {
      "text/plain": [
       "<IPython.core.display.HTML object>"
      ],
      "text/html": [
       "<table><tr><td><h4>Описание</h4></td><td><h4>Значение</h4></td></tr><tr><td><h4>Критический хи-квадрат</h4></td><td><h4>1071.568999044425</h4></td></tr><tr><td><h4>хи-квадрат выборки</h4></td><td><h4>995.807796466282</h4></td></tr><tr><td><h4>Гипотезу согласия</h4></td><td><h4>принимаем</h4></td></tr></table>"
      ]
     },
     "metadata": {},
     "output_type": "display_data"
    }
   ],
   "execution_count": 334
  },
  {
   "cell_type": "markdown",
   "id": "8e65abbb",
   "metadata": {},
   "source": [
    "#### Задание 2. ИМИТАЦИЯ ДИСКРЕТНЫХ СЛУЧАЙНЫХ ВЕЛИЧИН (с заданным законом распределения)"
   ]
  },
  {
   "cell_type": "code",
   "id": "2ed3f53f",
   "metadata": {
    "ExecuteTime": {
     "end_time": "2024-10-07T09:54:38.123515Z",
     "start_time": "2024-10-07T09:54:38.116141Z"
    }
   },
   "source": [
    "inverse_function = \"\"\n",
    "distribution_expression = \"\"\n",
    "plt.rcParams[\"figure.figsize\"] = (10, 30)\n",
    "max_value1 = 20\n",
    "gamma1 = 0.95\n",
    "number_of_dots1 = 20\n",
    "hypothesis_error_value1 = 0.05"
   ],
   "outputs": [],
   "execution_count": 335
  },
  {
   "cell_type": "code",
   "id": "e76af126",
   "metadata": {
    "ExecuteTime": {
     "end_time": "2024-10-07T09:54:38.187350Z",
     "start_time": "2024-10-07T09:54:38.179236Z"
    }
   },
   "source": [
    "# случайное количество попыток до первого успеха в соответствии\n",
    "# с геометрическим распределением\n",
    "\n",
    "generator1 = CustomGenerator()\n",
    "\n",
    "\n",
    "def get_random1():\n",
    "    random_number = generator1.random()\n",
    "    \n",
    "    for i in range(max_value1):\n",
    "        probability = p_prob1 * (1 - p_prob1) ** i # геометрическое распределение\n",
    "        \n",
    "        if random_number < probability:\n",
    "            return i + 1\n",
    "        \n",
    "        random_number -= probability\n",
    "        \n",
    "    return max_value1"
   ],
   "outputs": [],
   "execution_count": 336
  },
  {
   "cell_type": "code",
   "id": "28d00819",
   "metadata": {
    "ExecuteTime": {
     "end_time": "2024-10-07T09:54:38.223371Z",
     "start_time": "2024-10-07T09:54:38.218030Z"
    }
   },
   "source": [
    "def get_random_data():\n",
    "    result = []\n",
    "    \n",
    "    for i in range(number_of_tests1):\n",
    "        result.append(get_random1())\n",
    "    \n",
    "    return result"
   ],
   "outputs": [],
   "execution_count": 337
  },
  {
   "cell_type": "code",
   "id": "44796627",
   "metadata": {
    "ExecuteTime": {
     "end_time": "2024-10-07T09:54:38.298167Z",
     "start_time": "2024-10-07T09:54:38.291621Z"
    }
   },
   "source": [
    "def get_mean(data):\n",
    "    return sum(data) / number_of_tests1\n",
    "\n",
    "def get_theoretical_mean():\n",
    "    return 1 / p_prob1"
   ],
   "outputs": [],
   "execution_count": 338
  },
  {
   "cell_type": "code",
   "id": "bd364415",
   "metadata": {
    "ExecuteTime": {
     "end_time": "2024-10-07T09:54:38.317986Z",
     "start_time": "2024-10-07T09:54:38.298167Z"
    }
   },
   "source": [
    "def get_theoretical_variance():\n",
    "    return (1 - p_prob1) / np.square(p_prob1)\n",
    "\n",
    "def get_variance(data, mean):\n",
    "    result = 0\n",
    "    \n",
    "    for item in data:\n",
    "        result += (item - mean) ** 2\n",
    "        \n",
    "    return result / number_of_tests1\n"
   ],
   "outputs": [],
   "execution_count": 339
  },
  {
   "cell_type": "code",
   "id": "a6f7fffa",
   "metadata": {
    "ExecuteTime": {
     "end_time": "2024-10-07T09:54:38.397926Z",
     "start_time": "2024-10-07T09:54:38.389635Z"
    }
   },
   "source": [
    "def get_delta1(offset):\n",
    "    t = norm.ppf(gamma1 / 2 + 0.5)\n",
    "    return t * offset / np.sqrt(number_of_tests1)\n",
    "\n",
    "def get_offset_delta1(test_offset):\n",
    "    alphas = ((1 - gamma1) / 2, (1 + gamma1) / 2)\n",
    "    chis = (chi2.isf(alphas, number_of_tests1 - 1))\n",
    "    corrected_offset = sqrt((test_offset ** 2) * number_of_tests1 / (number_of_tests1 - 1))\n",
    "    temp = np.sqrt(number_of_tests1 - 1) * corrected_offset\n",
    "    \n",
    "    return (temp / np.sqrt(chis[0]), temp / np.sqrt(chis[1]))\n"
   ],
   "outputs": [],
   "execution_count": 340
  },
  {
   "cell_type": "code",
   "id": "514d9b76",
   "metadata": {
    "ExecuteTime": {
     "end_time": "2024-10-07T09:54:46.396409Z",
     "start_time": "2024-10-07T09:54:38.411204Z"
    }
   },
   "source": [
    "number_of_tests1 = int(input(\"Введите количество значений, которые будут сгенерированы:\\n\"))\n",
    "p_prob1 = float(input(\"Введите вероятность:\\n\"))"
   ],
   "outputs": [],
   "execution_count": 341
  },
  {
   "cell_type": "code",
   "id": "15f60a3a",
   "metadata": {
    "ExecuteTime": {
     "end_time": "2024-10-07T09:54:48.675923Z",
     "start_time": "2024-10-07T09:54:46.468066Z"
    }
   },
   "source": [
    "data = get_random_data()\n",
    "mean = get_mean(data)\n",
    "theor_mean = get_theoretical_mean()\n",
    "variance = get_variance(data, mean)\n",
    "teoretical_variance = get_theoretical_variance()\n",
    "standard_deviation1 = sqrt(variance)\n",
    "theoretical_standard_deviation1 = sqrt(theoretical_variance)\n",
    "deltaone = get_delta1(theoretical_standard_deviation1)\n",
    "offset_delta1 = get_offset_delta1(standard_deviation1)"
   ],
   "outputs": [],
   "execution_count": 342
  },
  {
   "cell_type": "code",
   "id": "b0c88cea",
   "metadata": {
    "ExecuteTime": {
     "end_time": "2024-10-07T09:54:49.162421Z",
     "start_time": "2024-10-07T09:54:48.712133Z"
    }
   },
   "source": [
    "limits = (0.5, max_value1 + 0.5)\n",
    "hist, bins = np.histogram(data, bins=number_of_dots1, range=limits)\n",
    "\n",
    "length = max_value1 / number_of_dots1\n",
    "dots = np.arange(0.5 * (length + 1), max_value1 + length / 2, length)\n",
    "derivative = lambdify(x, integrate(number_of_tests1 * p_prob1 * ((1 - p_prob1) ** (x - 1)), (x, x - length / 2, x + length / 2)))\n",
    "results = list(map(derivative, dots))\n",
    "\n",
    "plt.subplot(6, 1, 2)\n",
    "        \n",
    "extra_hist = hist.copy()\n",
    "    \n",
    "for i in range(1, len(hist)):\n",
    "    extra_hist[i] += extra_hist[i-1]\n",
    "    \n",
    "ax = plt.gca()\n",
    "ax.bar(bins[:-1], extra_hist, width = length,  color = \"green\")\n",
    "plt.xlim(limits)\n",
    "    \n",
    "distribution_function = lambdify(x, number_of_tests1 * (1 - (1 - p_prob1) ** x))\n",
    "distribution_dots = np.arange(limits[0] + length, limits[1] + length / 10, length)\n",
    "    \n",
    "distribution_results = list(map(distribution_function, distribution_dots))\n",
    "plt.plot(distribution_dots, distribution_results, marker=11, color=\"black\")\n",
    "plt.title(\"Функция распределения\")\n",
    "plt.show()"
   ],
   "outputs": [
    {
     "data": {
      "text/plain": [
       "<Figure size 1000x3000 with 1 Axes>"
      ],
      "image/png": "[encoded data removed]"
     },
     "metadata": {},
     "output_type": "display_data"
    }
   ],
   "execution_count": 343
  },
  {
   "cell_type": "code",
   "id": "15981eae",
   "metadata": {
    "ExecuteTime": {
     "end_time": "2024-10-07T09:54:49.246973Z",
     "start_time": "2024-10-07T09:54:49.235177Z"
    }
   },
   "source": [
    "k = number_of_dots1 - 2 - 1\n",
    "critical_value = chi2.isf(hypothesis_error_value1, k)\n",
    "normal_value = 0\n",
    "    \n",
    "for i in range(number_of_dots1):\n",
    "    normal_value += np.square(hist[i] - results[i]) / results[i]\n",
    "    "
   ],
   "outputs": [],
   "execution_count": 344
  },
  {
   "cell_type": "code",
   "id": "3636e5dd",
   "metadata": {
    "ExecuteTime": {
     "end_time": "2024-10-07T09:54:49.376711Z",
     "start_time": "2024-10-07T09:54:49.362487Z"
    }
   },
   "source": [
    "from IPython.display import HTML, display\n",
    "\n",
    "val = np.square(offset_delta1)\n",
    "\n",
    "def display_table(data):\n",
    "    html = \"<table>\"\n",
    "    for row in data:\n",
    "        html += \"<tr>\"\n",
    "        for field in row:\n",
    "            html += \"<td><h4>%s</h4></td>\" % (field)\n",
    "        html += \"</tr>\"\n",
    "    html += \"</table>\"\n",
    "    display(HTML(html))\n",
    "\n",
    "\n",
    "data = [['Опиcание', 'Математическое ожидание', 'Дисперсия'],\n",
    "        ['Выборочно', mean, variance],\n",
    "        ['Теоретическое', theor_mean, teoretical_variance],\n",
    "        ['Доверительный начало', mean-deltaone,val[0]],\n",
    "        ['Доверительный конец',mean+deltaone,val[1]]]\n",
    "display_table(data)"
   ],
   "outputs": [
    {
     "data": {
      "text/plain": [
       "<IPython.core.display.HTML object>"
      ],
      "text/html": [
       "<table><tr><td><h4>Опиcание</h4></td><td><h4>Математическое ожидание</h4></td><td><h4>Дисперсия</h4></td></tr><tr><td><h4>Выборочно</h4></td><td><h4>1.666279</h4></td><td><h4>1.1082152941719874</h4></td></tr><tr><td><h4>Теоретическое</h4></td><td><h4>1.6666666666666667</h4></td><td><h4>1.1111111111111112</h4></td></tr><tr><td><h4>Доверительный начало</h4></td><td><h4>1.66593792966893</h4></td><td><h4>1.10515104178778</h4></td></tr><tr><td><h4>Доверительный конец</h4></td><td><h4>1.66662007033107</h4></td><td><h4>1.11129459310747</h4></td></tr></table>"
      ]
     },
     "metadata": {},
     "output_type": "display_data"
    }
   ],
   "execution_count": 345
  },
  {
   "cell_type": "code",
   "id": "11cf7f5f",
   "metadata": {
    "ExecuteTime": {
     "end_time": "2024-10-07T09:54:49.461165Z",
     "start_time": "2024-10-07T09:54:49.447633Z"
    }
   },
   "source": [
    "result_for_print = \"принимаем\" if normal_value < critical_value else \"отвергаем\"\n",
    "data1 = [['Описание', 'Значение'],\n",
    "         [\"Критический кси-квадрат\",critical_value],\n",
    "         [\"Кси-квадрат выборки\",normal_value],\n",
    "         [\"Гипотезу согласия\",result_for_print]]\n",
    "\n",
    "display_table(data1)\n",
    "    "
   ],
   "outputs": [
    {
     "data": {
      "text/plain": [
       "<IPython.core.display.HTML object>"
      ],
      "text/html": [
       "<table><tr><td><h4>Описание</h4></td><td><h4>Значение</h4></td></tr><tr><td><h4>Критический кси-квадрат</h4></td><td><h4>27.587111638275335</h4></td></tr><tr><td><h4>Кси-квадрат выборки</h4></td><td><h4>1216.884567117539</h4></td></tr><tr><td><h4>Гипотезу согласия</h4></td><td><h4>отвергаем</h4></td></tr></table>"
      ]
     },
     "metadata": {},
     "output_type": "display_data"
    }
   ],
   "execution_count": 346
  }
 ],
 "metadata": {
  "kernelspec": {
   "display_name": "Python 3 (ipykernel)",
   "language": "python",
   "name": "python3"
  },
  "language_info": {
   "codemirror_mode": {
    "name": "ipython",
    "version": 3
   },
   "file_extension": ".py",
   "mimetype": "text/x-python",
   "name": "python",
   "nbconvert_exporter": "python",
   "pygments_lexer": "ipython3",
   "version": "3.12.3"
  }
 },
 "nbformat": 4,
 "nbformat_minor": 5
}
