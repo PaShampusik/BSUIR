{
 "cells": [
  {
   "cell_type": "code",
   "execution_count": 1,
   "id": "92a2fe93",
   "metadata": {},
   "outputs": [],
   "source": [
    "import sys\n",
    "import csv\n",
    "import numpy as np\n",
    "import matplotlib.pyplot as plt\n",
    "from scipy.stats import geom, binom, poisson, uniform, norm, expon"
   ]
  },
  {
   "cell_type": "code",
   "execution_count": 2,
   "id": "98803a53",
   "metadata": {},
   "outputs": [],
   "source": [
    "# Загрузка данных из файла\n",
    "file1_data = []\n",
    "with open(\"set_1.csv\", \"r\") as file:\n",
    "    reader = csv.reader(file)\n",
    "    for row in reader:\n",
    "        file1_data.append(row)"
   ]
  },
  {
   "cell_type": "code",
   "execution_count": 3,
   "id": "520cf7ab",
   "metadata": {},
   "outputs": [],
   "source": [
    "file2_data = []\n",
    "with open(\"set_2.csv\", \"r\") as file:\n",
    "    reader = csv.reader(file)\n",
    "    for row in reader:\n",
    "        file2_data.append(row)"
   ]
  },
  {
   "cell_type": "code",
   "execution_count": 4,
   "id": "10b8dc27",
   "metadata": {},
   "outputs": [],
   "source": [
    "file3_data = []\n",
    "with open(\"set_3.csv\", \"r\") as file:\n",
    "    reader = csv.reader(file)\n",
    "    for row in reader:\n",
    "        file3_data.append(row)"
   ]
  },
  {
   "cell_type": "code",
   "execution_count": 5,
   "id": "86fda128",
   "metadata": {},
   "outputs": [],
   "source": [
    "data = np.array(file1_data).flatten().astype(int)"
   ]
  },
  {
   "cell_type": "code",
   "execution_count": 6,
   "id": "cbb2e17d",
   "metadata": {},
   "outputs": [
    {
     "data": {
      "image/png": "[encoded data removed]",
      "text/plain": [
       "<Figure size 640x480 with 1 Axes>"
      ]
     },
     "metadata": {},
     "output_type": "display_data"
    }
   ],
   "source": [
    "# гистограмма\n",
    "plt.xlim(0, 19)\n",
    "plt.hist(data, bins=\"auto\", color=\"blue\", alpha=0.7, rwidth=0.85)\n",
    "plt.grid(axis=\"y\", alpha=0.75)\n",
    "plt.xlabel(\"Значение\")\n",
    "plt.ylabel(\"Частота\")\n",
    "plt.title(\"Гистограмма данных из файла set_1.csv\")\n",
    "plt.show(block=True)"
   ]
  },
  {
   "cell_type": "code",
   "execution_count": null,
   "id": "b194ec2d",
   "metadata": {},
   "outputs": [],
   "source": [
    "# Параметр p - вероятность успеха\n",
    "p = 0.5"
   ]
  },
  {
   "cell_type": "code",
   "execution_count": null,
   "id": "06f12fed",
   "metadata": {},
   "outputs": [],
   "source": [
    "# Расчет математического ожидания и дисперсии\n",
    "mean = np.mean(data)\n",
    "variance = np.var(data)"
   ]
  },
  {
   "cell_type": "code",
   "execution_count": null,
   "id": "b61e03bc",
   "metadata": {},
   "outputs": [],
   "source": [
    "# Создание массива значений для x\n",
    "x = np.arange(0, np.max(data) + 1)"
   ]
  },
  {
   "cell_type": "code",
   "execution_count": null,
   "id": "b5b03ecf",
   "metadata": {},
   "outputs": [],
   "source": [
    "# Геометрическое распределение\n",
    "geom_pmf = geom.pmf(x, 1 / mean)"
   ]
  },
  {
   "cell_type": "code",
   "execution_count": null,
   "id": "ffcdca24",
   "metadata": {},
   "outputs": [],
   "source": [
    "plt.xlim(0, 19)\n",
    "plt.plot(x, geom_pmf, \"r\", label=\"Геометрическое распределение\")\n",
    "plt.grid(axis=\"y\", alpha=0.75)\n",
    "plt.xlabel(\"Значение\")\n",
    "plt.ylabel(\"Вероятность\")\n",
    "plt.title(\"Теоретические распределения\")\n",
    "plt.legend()\n",
    "plt.xticks(np.arange(0, 20, 1))\n",
    "plt.show(block=True)"
   ]
  },
  {
   "cell_type": "code",
   "execution_count": null,
   "id": "06cd3ecf",
   "metadata": {},
   "outputs": [],
   "source": [
    "# Биномиальное распределение\n",
    "binom_pmf = binom.pmf(x, len(data), 1 / mean)"
   ]
  },
  {
   "cell_type": "code",
   "execution_count": null,
   "id": "bbedc4c4",
   "metadata": {},
   "outputs": [],
   "source": [
    "plt.xlim(0, 60)\n",
    "plt.plot(x, binom_pmf, \"r\", label=\"Биномиальное распределение\")\n",
    "plt.grid(axis=\"y\", alpha=0.75)\n",
    "plt.xlabel(\"Значение\")\n",
    "plt.ylabel(\"Вероятность\")\n",
    "plt.title(\"Теоретические распределения\")\n",
    "plt.legend()\n",
    "plt.xticks(np.arange(0, 60, 1))\n",
    "plt.show(block=True)"
   ]
  },
  {
   "cell_type": "code",
   "execution_count": null,
   "id": "ee4bc6cf",
   "metadata": {},
   "outputs": [],
   "source": [
    "# Пуассоновское распределение\n",
    "poisson_pmf = poisson.pmf(x, mean)"
   ]
  },
  {
   "cell_type": "code",
   "execution_count": null,
   "id": "7d212d6b",
   "metadata": {},
   "outputs": [],
   "source": [
    "plt.xlim(-1, 12)\n",
    "plt.plot(x, poisson_pmf, \"r\", label=\"Пуассоново распределение\")\n",
    "plt.grid(axis=\"y\", alpha=0.75)\n",
    "plt.xlabel(\"Значение\")\n",
    "plt.ylabel(\"Вероятность\")\n",
    "plt.title(\"Теоретические распределения\")\n",
    "plt.legend()\n",
    "plt.xticks(np.arange(-1, 12, 1))\n",
    "plt.show(block=True)"
   ]
  },
  {
   "cell_type": "code",
   "execution_count": null,
   "id": "691a78f0",
   "metadata": {},
   "outputs": [],
   "source": [
    "# Равномерное распределение\n",
    "uniform_pdf = uniform.pdf(x, np.min(data), np.max(data))"
   ]
  },
  {
   "cell_type": "code",
   "execution_count": null,
   "id": "e9d47b27",
   "metadata": {},
   "outputs": [],
   "source": [
    "plt.xlim(-1, 4)\n",
    "plt.plot(x, uniform_pdf, \"r\", label=\"Равномерное распределение\")\n",
    "plt.grid(axis=\"y\", alpha=0.75)\n",
    "plt.xlabel(\"Значение\")\n",
    "plt.ylabel(\"Вероятность\")\n",
    "plt.title(\"Теоретические распределения\")\n",
    "plt.legend()\n",
    "plt.xticks(np.arange(-1, 4, 1))\n",
    "plt.show(block=True)"
   ]
  },
  {
   "cell_type": "code",
   "execution_count": null,
   "id": "60d5b7c7",
   "metadata": {},
   "outputs": [],
   "source": [
    "# Нормальное распределение\n",
    "norm_pdf = norm.pdf(x, mean, np.sqrt(variance))"
   ]
  },
  {
   "cell_type": "code",
   "execution_count": null,
   "id": "04ce39af",
   "metadata": {},
   "outputs": [],
   "source": [
    "plt.xlim(-1, 14)\n",
    "plt.plot(x, norm_pdf, \"r\", label=\"Нормальное распределение\")\n",
    "plt.grid(axis=\"y\", alpha=0.75)\n",
    "plt.xlabel(\"Значение\")\n",
    "plt.ylabel(\"Вероятность\")\n",
    "plt.title(\"Теоретические распределения\")\n",
    "plt.legend()\n",
    "plt.xticks(np.arange(-1, 14, 1))\n",
    "plt.show(block=True)"
   ]
  },
  {
   "cell_type": "code",
   "execution_count": null,
   "id": "cc293838",
   "metadata": {},
   "outputs": [],
   "source": [
    "# Экспоненциальное распределение\n",
    "expon_pdf = expon.pdf(x, scale=1 / mean)"
   ]
  },
  {
   "cell_type": "code",
   "execution_count": null,
   "id": "a6dbde8c",
   "metadata": {},
   "outputs": [],
   "source": [
    "plt.xlim(-1, 3)\n",
    "plt.plot(x, expon_pdf, \"r\", label=\"Экспоненциальное распределение\")\n",
    "plt.grid(axis=\"y\", alpha=0.75)\n",
    "plt.xlabel(\"Значение\")\n",
    "plt.ylabel(\"Вероятность\")\n",
    "plt.title(\"Теоретические распределения\")\n",
    "plt.legend()\n",
    "plt.xticks(np.arange(-1, 3, 1))\n",
    "plt.show(block=True)"
   ]
  }
 ],
 "metadata": {
  "jupytext": {
   "cell_metadata_filter": "-all",
   "formats": "ipynb,py",
   "main_language": "python"
  },
  "kernelspec": {
   "display_name": "venv",
   "language": "python",
   "name": "venv"
  },
  "language_info": {
   "codemirror_mode": {
    "name": "ipython",
    "version": 3
   },
   "file_extension": ".py",
   "mimetype": "text/x-python",
   "name": "python",
   "nbconvert_exporter": "python",
   "pygments_lexer": "ipython3",
   "version": "3.10.5"
  }
 },
 "nbformat": 4,
 "nbformat_minor": 5
}
