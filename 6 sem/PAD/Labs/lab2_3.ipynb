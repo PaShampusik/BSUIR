{
 "cells": [
  {
   "cell_type": "code",
   "execution_count": 1,
   "id": "0384d0a1-eccb-4afa-9ae3-2eb60fc1fb50",
   "metadata": {},
   "outputs": [
    {
     "ename": "ModuleNotFoundError",
     "evalue": "No module named 'numpy'",
     "output_type": "error",
     "traceback": [
      "\u001b[1;31m---------------------------------------------------------------------------\u001b[0m",
      "\u001b[1;31mModuleNotFoundError\u001b[0m                       Traceback (most recent call last)",
      "Cell \u001b[1;32mIn[1], line 2\u001b[0m\n\u001b[0;32m      1\u001b[0m \u001b[38;5;28;01mimport\u001b[39;00m \u001b[38;5;21;01mmath\u001b[39;00m\n\u001b[1;32m----> 2\u001b[0m \u001b[38;5;28;01mimport\u001b[39;00m \u001b[38;5;21;01mnumpy\u001b[39;00m \u001b[38;5;28;01mas\u001b[39;00m \u001b[38;5;21;01mnp\u001b[39;00m\n\u001b[0;32m      3\u001b[0m \u001b[38;5;28;01mimport\u001b[39;00m \u001b[38;5;21;01mmatplotlib\u001b[39;00m\u001b[38;5;21;01m.\u001b[39;00m\u001b[38;5;21;01mpyplot\u001b[39;00m \u001b[38;5;28;01mas\u001b[39;00m \u001b[38;5;21;01mplt\u001b[39;00m\n\u001b[0;32m      4\u001b[0m \u001b[38;5;28;01mfrom\u001b[39;00m \u001b[38;5;21;01mscipy\u001b[39;00m\u001b[38;5;21;01m.\u001b[39;00m\u001b[38;5;21;01mstats\u001b[39;00m \u001b[38;5;28;01mimport\u001b[39;00m norm\n",
      "\u001b[1;31mModuleNotFoundError\u001b[0m: No module named 'numpy'"
     ]
    }
   ],
   "source": [
    "import math\n",
    "import numpy as np\n",
    "import matplotlib.pyplot as plt\n",
    "from scipy.stats import norm"
   ]
  },
  {
   "cell_type": "markdown",
   "id": "1711b9e3-08c0-4d34-a06f-60e829320122",
   "metadata": {},
   "source": [
    "P-value table for hi2-method"
   ]
  },
  {
   "cell_type": "code",
   "execution_count": null,
   "id": "f1558168-d60d-4d33-8cbe-b6b61bbc17df",
   "metadata": {},
   "outputs": [
    {
     "ename": "",
     "evalue": "",
     "output_type": "error",
     "traceback": [
      "\u001b[1;31mДля выполнения ячеек с \"Python 3.11.7\" требуется пакет ipykernel.\n",
      "\u001b[1;31mВыполните следующую команду, чтобы установить \"ipykernel\" в среде Python. \n",
      "\u001b[1;31mКоманда: \"d:/utilities/m2sys/mingw64/bin/python.exe -m pip install ipykernel -U --user --force-reinstall\""
     ]
    }
   ],
   "source": [
    "table4 = [[1,{0.000: 0.99, 0.001: 0.98, 0.004: 0.95, 0.016: 0.90, 0.064: 0.80, 0.148: 0.70, 0.455: 0.50, 1.074: 0.30, 1.642: 0.20, 2.71: 0.10, 3.84: 0.05, 5.41: 0.02, 6.64: 0.01, 10.83: 0.001}],\n",
    "         [2,{0.020: 0.99, 0.040: 0.98, 0.103: 0.95, 0.211: 0.90, 0.446: 0.80, 0.713: 0.70, 1.386: 0.50, 2.41: 0.30, 3.22: 0.20, 4.60: 0.10, 5.99: 0.05, 7.82: 0.02, 9.21: 0.01, 13.82: 0.001}],\n",
    "         [3,{0.115: 0.99, 0.185: 0.98, 0.352: 0.95, 0.584: 0.90, 1.005: 0.80, 1.424: 0.70, 2.37: 0.50, 3.66: 0.30, 4.64: 0.20, 6.25: 0.10, 7.82: 0.05, 9.84: 0.02, 11.34: 0.01, 16.27: 0.001}],\n",
    "         [4,{0.297: 0.99, 0.429: 0.98, 0.711: 0.95, 1.064: 0.90, 1.648: 0.80, 2.20: 0.70, 3.36: 0.50, 4.88: 0.30, 5.99: 0.20, 7.78: 0.10, 9.49: 0.05, 11.67: 0.02, 13.28: 0.01, 18.46: 0.001}],\n",
    "         [5,{0.554: 0.99, 0.752: 0.98, 1.145: 0.95, 1.610: 0.90, 2.34: 0.80, 3.00: 0.70, 4.35: 0.50, 6.06: 0.30, 7.29: 0.20, 9.24: 0.10, 11.07: 0.05, 13.39: 0.02, 15.09: 0.01, 20.5: 0.001}],\n",
    "         [6,{0.872: 0.99, 1.134: 0.98, 1.635: 0.95, 2.20: 0.90, 3.07: 0.80, 3.83: 0.70, 5.35: 0.50, 7.23: 0.30, 8.56: 0.20, 10.64: 0.10, 12.59: 0.05, 15.03: 0.02, 16.81: 0.01, 22.5: 0.001}],\n",
    "         [7,{1.239: 0.99, 1.564: 0.98, 2.17: 0.95, 2.83: 0.90, 3.82: 0.80, 4.67: 0.70, 6.35: 0.50, 8.38: 0.30, 9.80: 0.20, 12.02: 0.10, 14.07: 0.05, 16.62: 0.02, 18.48: 0.01, 24.3: 0.001}],\n",
    "         [8,{1.646: 0.99, 2.03: 0.98, 2.73: 0.95, 3.49: 0.90, 4.59: 0.80, 5.53: 0.70, 7.34: 0.50, 9.52: 0.30, 11.03: 0.20, 13.36: 0.10, 15.51: 0.05, 18.17: 0.02, 20.1: 0.01, 26.1: 0.001}],\n",
    "         [9,{2.09: 0.99, 2.53: 0.98, 3.32: 0.95, 4.17: 0.90, 5.38: 0.80, 6.39: 0.70, 8.34: 0.50, 10.66: 0.30, 12.24: 0.20, 14.68: 0.10, 16.92: 0.05, 19.68: 0.02, 21.7: 0.01, 27.9: 0.001}],\n",
    "         [10,{2.56: 0.99, 3.06: 0.98, 3.94: 0.95, 4.86: 0.90, 6.18: 0.80, 7.27: 0.70, 9.34: 0.50, 11.78: 0.30, 13.44: 0.20, 15.99: 0.10, 18.31: 0.05, 21.2: 0.02, 23.2: 0.01, 29.6: 0.001}],\n",
    "         [11,{3.05: 0.99, 3.61: 0.98, 4.58: 0.95, 5.58: 0.90, 6.99: 0.80, 8.15: 0.70, 10.34: 0.50, 12.90: 0.30, 14.63: 0.20, 17.28: 0.10, 19.68: 0.05, 22.6: 0.02, 24.7: 0.01, 31.3: 0.001}],\n",
    "         [12,{3.57: 0.99, 4.18: 0.98, 5.23: 0.95, 6.30: 0.90, 7.81: 0.80, 9.03: 0.70, 11.34: 0.50, 14.01: 0.30, 15.81: 0.20, 18.55: 0.10, 21.0: 0.05, 24.1: 0.02, 26.2: 0.01, 32.9: 0.001}],\n",
    "         [13,{4.11: 0.99, 4.76: 0.98, 5.89: 0.95, 7.04: 0.90, 8.63: 0.80, 9.93: 0.70, 12.34: 0.50, 15.12: 0.30, 16.98: 0.20, 19.81: 0.10, 22.4: 0.05, 25.5: 0.02, 27.7: 0.01, 34.6: 0.001}],\n",
    "         [14,{4.66: 0.99, 5.37: 0.98, 6.57: 0.95, 7.79: 0.90, 9.47: 0.80, 10.82: 0.70, 13.34: 0.50, 16.22: 0.30, 18.15: 0.20, 21.1: 0.10, 23.7: 0.05, 26.9: 0.02, 29.1: 0.01, 36.1: 0.001}],\n",
    "         [15,{5.23: 0.99, 5.98: 0.98, 7.26: 0.95, 8.55: 0.90, 10.31: 0.80, 11.72: 0.70, 14.34: 0.50, 17.32: 0.30, 19.31: 0.20, 22.3: 0.10, 25.0: 0.05, 28.3: 0.02, 30.6: 0.01, 37.7: 0.001}],\n",
    "         [16,{5.81: 0.99, 6.61: 0.98, 7.96: 0.95, 9.31: 0.90, 11.15: 0.80, 12.62: 0.70, 15.34: 0.50, 18.42: 0.30, 20.5: 0.20, 23.5: 0.10, 26.3: 0.05, 29.6: 0.02, 32.0: 0.01, 39.3: 0.001}],\n",
    "         [17,{6.41: 0.99, 7.26: 0.98, 8.67: 0.95, 10.08: 0.90, 12.00: 0.80, 13.53: 0.70, 16.34: 0.50, 19.51: 0.30, 21.6: 0.20, 24.8: 0.10, 27.6: 0.05, 31.0: 0.02, 33.4: 0.01, 40.8: 0.001}],\n",
    "         [18,{7.02: 0.99, 7.91: 0.98, 9.39: 0.95, 10.86: 0.90, 12.86: 0.80, 14.44: 0.70, 17.34: 0.50, 20.6: 0.30, 22.8: 0.20, 26.0: 0.10, 28.9: 0.05, 32.3: 0.02, 34.8: 0.01, 42.3: 0.001}],\n",
    "         [19,{7.63: 0.99, 8.57: 0.98, 10.11: 0.95, 11.65: 0.90, 13.72: 0.80, 15.35: 0.70, 18.34: 0.50, 21.7: 0.30, 23.9: 0.20, 27.2: 0.10, 30.1: 0.05, 33.7: 0.02, 36.2: 0.01, 43.8: 0.001}],\n",
    "         [20,{8.26: 0.99, 9.24: 0.98, 10.85: 0.95, 12.44: 0.90, 14.58: 0.80, 16.27: 0.70, 19.34: 0.50, 22.8: 0.30, 25.0: 0.20, 28.4: 0.10, 31.4: 0.05, 35.0: 0.02, 37.6: 0.01, 45.3: 0.001}],\n",
    "         [21,{8.90: 0.99, 9.92: 0.98, 11.59: 0.95, 13.24: 0.90, 15.44: 0.80, 17.18: 0.70, 20.3: 0.50, 23.9: 0.30, 26.2: 0.20, 29.6: 0.10, 32.7: 0.05, 36.3: 0.02, 38.9: 0.01, 46.8: 0.001}],\n",
    "         [22,{9.54: 0.99, 10.60: 0.98, 12.34: 0.95, 14.04: 0.90, 16.31: 0.80, 18.10: 0.70, 21.3: 0.50, 24.9: 0.30, 27.3: 0.20, 30.8: 0.10, 33.9: 0.05, 37.7: 0.02, 40.3: 0.01, 48.3: 0.001}],\n",
    "         [23,{10.20: 0.99, 11.29: 0.98, 13.09: 0.95, 14.85: 0.90, 17.19: 0.80, 19.02: 0.70, 22.3: 0.50, 26.0: 0.30, 28.4: 0.20, 32.0: 0.10, 35.2: 0.05, 39.0: 0.02, 41.6: 0.01, 49.7: 0.001}],\n",
    "         [24,{10.86: 0.99, 11.99: 0.98, 13.85: 0.95, 15.66: 0.90, 18.06: 0.80, 19.94: 0.70, 23.3: 0.50, 27.1: 0.30, 29.6: 0.20, 33.2: 0.10, 36.4: 0.05, 40.3: 0.02, 43.0: 0.01, 51.2: 0.001}],\n",
    "         [25,{11.52: 0.99, 12.70: 0.98, 14.61: 0.95, 16.47: 0.90, 18.94: 0.80, 20.9: 0.70, 24.3: 0.50, 28.2: 0.30, 30.7: 0.20, 34.4: 0.10, 37.7: 0.05, 41.7: 0.02, 44.3: 0.01, 52.6: 0.001}],\n",
    "         [26,{12.20: 0.99, 13.41: 0.98, 15.38: 0.95, 17.29: 0.90, 19.82: 0.80, 21.8: 0.70, 25.3: 0.50, 29.2: 0.30, 31.8: 0.20, 35.6: 0.10, 38.9: 0.05, 42.9: 0.02, 45.6: 0.01, 54.1: 0.001}],\n",
    "         [27,{12.88: 0.99, 14.12: 0.98, 16.15: 0.95, 18.11: 0.90, 20.7: 0.80, 22.7: 0.70, 26.3: 0.50, 30.3: 0.30, 32.9: 0.20, 36.7: 0.10, 40.1: 0.05, 44.1: 0.02, 47.0: 0.01, 55.5: 0.001}],\n",
    "         [28,{13.56: 0.99, 14.85: 0.98, 16.93: 0.95, 18.94: 0.90, 21.6: 0.80, 23.6: 0.70, 27.3: 0.50, 31.4: 0.30, 34.0: 0.20, 37.9: 0.10, 41.3: 0.05, 45.4: 0.02, 48.3: 0.01, 56.9: 0.001}],\n",
    "         [29,{14.26: 0.99, 15.57: 0.98, 17.71: 0.95, 19.77: 0.90, 22.5: 0.80, 24.6: 0.70, 28.3: 0.50, 32.5: 0.30, 35.1: 0.20, 39.1: 0.10, 42.6: 0.05, 46.7: 0.02, 49.6: 0.01, 58.3: 0.001}],\n",
    "         [30,{14.95: 0.99, 16.31: 0.98, 18.49: 0.95, 20.6: 0.90, 23.4: 0.80, 25.5: 0.70, 29.3: 0.50, 33.5: 0.30, 36.2: 0.20, 40.3: 0.10, 43.8: 0.05, 48.0: 0.02, 50.9: 0.01, 59.7: 0.001}]]"
   ]
  },
  {
   "cell_type": "markdown",
   "id": "631fdb46-174f-44a5-aa95-8a8fde151d9d",
   "metadata": {},
   "source": [
    "function for extracting p-value from table above"
   ]
  },
  {
   "cell_type": "code",
   "execution_count": null,
   "id": "2e76c52f-5345-4bb2-82ac-b87b75992992",
   "metadata": {},
   "outputs": [
    {
     "ename": "",
     "evalue": "",
     "output_type": "error",
     "traceback": [
      "\u001b[1;31mДля выполнения ячеек с \"Python 3.11.7\" требуется пакет ipykernel.\n",
      "\u001b[1;31mВыполните следующую команду, чтобы установить \"ipykernel\" в среде Python. \n",
      "\u001b[1;31mКоманда: \"d:/utilities/m2sys/mingw64/bin/python.exe -m pip install ipykernel -U --user --force-reinstall\""
     ]
    }
   ],
   "source": [
    "def get_p_value_hi2(r, hi2):\n",
    "    for row in table4:\n",
    "        if row[0] == r:\n",
    "            for key in row[1].keys():\n",
    "                if key == 1 and hi2 <= row[1][key]:\n",
    "                    return row[1][key]\n",
    "                elif key == max(row[1].keys()) and hi2 > key:\n",
    "                    return row[1][key]\n",
    "                elif hi2 <= key:\n",
    "                    return row[1][key]\n"
   ]
  },
  {
   "cell_type": "raw",
   "id": "d11859ea-725e-4212-81a2-ab06d4192024",
   "metadata": {},
   "source": [
    "Function to calculate Pearson's hi^2 after building a great table:"
   ]
  },
  {
   "cell_type": "code",
   "execution_count": null,
   "id": "22a315b7-2705-4de9-ae88-cd76c3a6a428",
   "metadata": {},
   "outputs": [
    {
     "ename": "",
     "evalue": "",
     "output_type": "error",
     "traceback": [
      "\u001b[1;31mДля выполнения ячеек с \"Python 3.11.7\" требуется пакет ipykernel.\n",
      "\u001b[1;31mВыполните следующую команду, чтобы установить \"ipykernel\" в среде Python. \n",
      "\u001b[1;31mКоманда: \"d:/utilities/m2sys/mingw64/bin/python.exe -m pip install ipykernel -U --user --force-reinstall\""
     ]
    }
   ],
   "source": [
    "def get_hi2_from_3dTable(table, n):\n",
    "    xi2 = 0\n",
    "    for i in range(len(table[0])):\n",
    "        if table[2][i] > 0:\n",
    "            ci = n/table[2][i]\n",
    "            xi2 += ci*(table[1][i]-table[2][i])**2\n",
    "    return xi2"
   ]
  },
  {
   "cell_type": "raw",
   "id": "720c1276-1f16-4c35-b44c-4d36acf26dfb",
   "metadata": {},
   "source": [
    "Critical values of Lillieforce test"
   ]
  },
  {
   "cell_type": "code",
   "execution_count": null,
   "id": "b808e9d5-d501-49ad-826b-54c4046360d2",
   "metadata": {
    "jupyter": {
     "source_hidden": true
    }
   },
   "outputs": [
    {
     "ename": "",
     "evalue": "",
     "output_type": "error",
     "traceback": [
      "\u001b[1;31mДля выполнения ячеек с \"Python 3.11.7\" требуется пакет ipykernel.\n",
      "\u001b[1;31mВыполните следующую команду, чтобы установить \"ipykernel\" в среде Python. \n",
      "\u001b[1;31mКоманда: \"d:/utilities/m2sys/mingw64/bin/python.exe -m pip install ipykernel -U --user --force-reinstall\""
     ]
    }
   ],
   "source": [
    "lillieforce_table = [[15, {0.20: 0.177, 0.15: 0.187, 0.10: 0.201, 0.05: 0.220, 0.01: 0.257}],\n",
    "                    [16, {0.20: 0.173, 0.15: 0.182, 0.10: 0.195, 0.05: 0.213, 0.01: 0.250}],\n",
    "                    [17, {0.20: 0.169, 0.15: 0.177, 0.10: 0.189, 0.05: 0.206, 0.01: 0.245}],\n",
    "                    [18, {0.20: 0.166, 0.15: 0.173, 0.10: 0.184, 0.05: 0.200, 0.01: 0.239}],\n",
    "                    [19, {0.20: 0.163, 0.15: 0.169, 0.10: 0.179, 0.05: 0.195, 0.01: 0.235}],\n",
    "                    [20, {0.20: 0.160, 0.15: 0.166, 0.10: 0.174, 0.05: 0.190, 0.01: 0.231}],\n",
    "                    [21, {0.20: 0.157, 0.15: 0.163, 0.10: 0.173, 0.05: 0.187, 0.01: 0.226}],\n",
    "                    [22, {0.20: 0.154, 0.15: 0.160, 0.10: 0.171, 0.05: 0.184, 0.01: 0.221}],\n",
    "                    [23, {0.20: 0.151, 0.15: 0.157, 0.10: 0.169, 0.05: 0.182, 0.01: 0.215}],\n",
    "                    [24, {0.20: 0.150, 0.15: 0.155, 0.10: 0.167, 0.05: 0.181, 0.01: 0.210}],\n",
    "                    [25, {0.20: 0.149, 0.15: 0.153, 0.10: 0.165, 0.05: 0.180, 0.01: 0.203}]]"
   ]
  },
  {
   "cell_type": "raw",
   "id": "872b20b1-d4b9-435d-9022-caad93e4a26e",
   "metadata": {},
   "source": [
    "function to get critical L-value from table above"
   ]
  },
  {
   "cell_type": "code",
   "execution_count": null,
   "id": "c0b5d5c3-8f42-4389-b180-e16e0dbf276c",
   "metadata": {},
   "outputs": [
    {
     "ename": "",
     "evalue": "",
     "output_type": "error",
     "traceback": [
      "\u001b[1;31mДля выполнения ячеек с \"Python 3.11.7\" требуется пакет ipykernel.\n",
      "\u001b[1;31mВыполните следующую команду, чтобы установить \"ipykernel\" в среде Python. \n",
      "\u001b[1;31mКоманда: \"d:/utilities/m2sys/mingw64/bin/python.exe -m pip install ipykernel -U --user --force-reinstall\""
     ]
    }
   ],
   "source": [
    "def get_Lvalue(n, alpha):\n",
    "    leng = len(lillieforce_table)\n",
    "    if n < lillieforce_table[0][0] or n > lillieforce_table[leng-1][0]:\n",
    "        return None\n",
    "    else:\n",
    "        for i in range(leng):\n",
    "            if n == lillieforce_table[i][0]:\n",
    "                return lillieforce_table[i][1][alpha]"
   ]
  },
  {
   "cell_type": "markdown",
   "id": "ecdb5e8f-24c3-47d6-8e1e-afc82c2715d7",
   "metadata": {},
   "source": [
    "P-value from lambda for Kolmogorov method"
   ]
  },
  {
   "cell_type": "code",
   "execution_count": null,
   "id": "87e8e282-4666-4b83-a0a0-1844c1021db6",
   "metadata": {},
   "outputs": [
    {
     "ename": "",
     "evalue": "",
     "output_type": "error",
     "traceback": [
      "\u001b[1;31mДля выполнения ячеек с \"Python 3.11.7\" требуется пакет ipykernel.\n",
      "\u001b[1;31mВыполните следующую команду, чтобы установить \"ipykernel\" в среде Python. \n",
      "\u001b[1;31mКоманда: \"d:/utilities/m2sys/mingw64/bin/python.exe -m pip install ipykernel -U --user --force-reinstall\""
     ]
    }
   ],
   "source": [
    "tableLambda = {0.3: 1.000, 0.4: 0.997, 0.5: 0.964, 0.6: 0.864, 0.7: 0.711, 0.8: 0.544, \n",
    "               0.9: 0.393, 1.0: 0.270, 1.1: 0.178, 1.2: 0.112, 1.3: 0.068, 1.4: 0.040, \n",
    "               1.5: 0.022, 1.6: 0.012, 1.7: 0.006, 1.8: 0.003, 1.9: 0.002, 2.0: 0.001}"
   ]
  },
  {
   "cell_type": "markdown",
   "id": "1c8d07df-0652-4eca-b93d-fd59445010ec",
   "metadata": {},
   "source": [
    "function foe extracting p-value from table above"
   ]
  },
  {
   "cell_type": "code",
   "execution_count": null,
   "id": "7edca066-a62c-44d3-ae3f-6ea679f076b1",
   "metadata": {},
   "outputs": [
    {
     "ename": "",
     "evalue": "",
     "output_type": "error",
     "traceback": [
      "\u001b[1;31mДля выполнения ячеек с \"Python 3.11.7\" требуется пакет ipykernel.\n",
      "\u001b[1;31mВыполните следующую команду, чтобы установить \"ipykernel\" в среде Python. \n",
      "\u001b[1;31mКоманда: \"d:/utilities/m2sys/mingw64/bin/python.exe -m pip install ipykernel -U --user --force-reinstall\""
     ]
    }
   ],
   "source": [
    "def get_p_value_kolmogorov(l):\n",
    "    if l < 0.0:\n",
    "        return None\n",
    "    elif l > 2.0:\n",
    "        return 0\n",
    "    else:\n",
    "        for key in tableLambda.keys():\n",
    "            if l <= key:\n",
    "                return tableLambda[key]"
   ]
  },
  {
   "cell_type": "raw",
   "id": "8edbe80c-0508-4df8-8678-edcaa91e427f",
   "metadata": {},
   "source": [
    "Function to calculate lambda from table of F*(x) and F(x)"
   ]
  },
  {
   "cell_type": "code",
   "execution_count": null,
   "id": "1e8d51e9-e401-4fa6-b1c8-a5d3d96c057d",
   "metadata": {},
   "outputs": [
    {
     "ename": "",
     "evalue": "",
     "output_type": "error",
     "traceback": [
      "\u001b[1;31mДля выполнения ячеек с \"Python 3.11.7\" требуется пакет ipykernel.\n",
      "\u001b[1;31mВыполните следующую команду, чтобы установить \"ipykernel\" в среде Python. \n",
      "\u001b[1;31mКоманда: \"d:/utilities/m2sys/mingw64/bin/python.exe -m pip install ipykernel -U --user --force-reinstall\""
     ]
    }
   ],
   "source": [
    "def get_kolmogorov_lambda(funcs, n):\n",
    "    D = np.max([abs(funcs[0][i]-funcs[1][i]) for i in range(len(funcs[0]))])\n",
    "    l = D * math.sqrt(n)\n",
    "    return l"
   ]
  },
  {
   "cell_type": "markdown",
   "id": "3ba796a1-900c-451b-b472-f3e036b1781b",
   "metadata": {},
   "source": [
    "function for calculating p_value for Andersen-Darling test\n",
    "\n",
    "for AD in [0, 0.6] p_value can be calculated due to formula e^(a + b*AD + c*AD^2) or 1 - e^(...). \n",
    "a,b,c coefficients are selected according to AD value in table of function below^"
   ]
  },
  {
   "cell_type": "code",
   "execution_count": null,
   "id": "a4cbf0c1-b2f0-421c-9ac0-5f5c5d472127",
   "metadata": {},
   "outputs": [
    {
     "ename": "",
     "evalue": "",
     "output_type": "error",
     "traceback": [
      "\u001b[1;31mДля выполнения ячеек с \"Python 3.11.7\" требуется пакет ipykernel.\n",
      "\u001b[1;31mВыполните следующую команду, чтобы установить \"ipykernel\" в среде Python. \n",
      "\u001b[1;31mКоманда: \"d:/utilities/m2sys/mingw64/bin/python.exe -m pip install ipykernel -U --user --force-reinstall\""
     ]
    }
   ],
   "source": [
    "def get_p_value_ADtest(AD):\n",
    "    # a,b,c coefficients table\n",
    "    tableAD = {0.6: [1.294, -5.709, 0.019],\n",
    "               0.34: [0.918, -4.279, -1.380],\n",
    "               0.2: [-8.318, 42.796, -59.938],\n",
    "               0.0: [-13.436, 101.140, -233.730]}\n",
    "    if AD < 0:\n",
    "        return None\n",
    "    elif AD > 153.4:\n",
    "        return 0.0\n",
    "    else:\n",
    "        for key in tableAD.keys():\n",
    "            if AD >= key:\n",
    "                abc = tableAD[key]\n",
    "                epower =  math.exp(abc[0] + abc[1]*AD + abc[2]*AD**2)\n",
    "                if AD < 0.34:\n",
    "                    return 1 - epower\n",
    "                return epower"
   ]
  },
  {
   "cell_type": "code",
   "execution_count": null,
   "id": "53bd6885-a57b-4821-8fd7-58dff8773778",
   "metadata": {},
   "outputs": [
    {
     "ename": "",
     "evalue": "",
     "output_type": "error",
     "traceback": [
      "\u001b[1;31mДля выполнения ячеек с \"Python 3.11.7\" требуется пакет ipykernel.\n",
      "\u001b[1;31mВыполните следующую команду, чтобы установить \"ipykernel\" в среде Python. \n",
      "\u001b[1;31mКоманда: \"d:/utilities/m2sys/mingw64/bin/python.exe -m pip install ipykernel -U --user --force-reinstall\""
     ]
    }
   ],
   "source": [
    "'''def get_AD(funcs, N):\n",
    "    S = 0\n",
    "    for i in range(N):\n",
    "        S += (2 * (i + 1) - 1) * (math.log(funcs[0][i]) + math.log(1 - funcs[1][i]))\n",
    "\n",
    "    S = S / N\n",
    "    AD = math.sqrt(-S)\n",
    "\n",
    "    return AD\n",
    "'''\n",
    "def get_AD2(funcs, N):\n",
    "    S = 0\n",
    "    for i in range(N):\n",
    "        S += (2 * (i + 1) - 1) * (math.log(funcs[0][i]) + math.log(1 - funcs[1][i]))\n",
    "\n",
    "    S = S / N\n",
    "    AD = math.sqrt(abs(-N-S))\n",
    "\n",
    "    return AD"
   ]
  },
  {
   "cell_type": "raw",
   "id": "d19bb451-8ee3-411f-aaaf-b5bfb6840128",
   "metadata": {},
   "source": [
    "Kullback-Leibler (KL) criteria calculation"
   ]
  },
  {
   "cell_type": "code",
   "execution_count": null,
   "id": "aa44483e-a4ae-43b7-aa47-fc6c83415f5a",
   "metadata": {},
   "outputs": [
    {
     "ename": "",
     "evalue": "",
     "output_type": "error",
     "traceback": [
      "\u001b[1;31mДля выполнения ячеек с \"Python 3.11.7\" требуется пакет ipykernel.\n",
      "\u001b[1;31mВыполните следующую команду, чтобы установить \"ipykernel\" в среде Python. \n",
      "\u001b[1;31mКоманда: \"d:/utilities/m2sys/mingw64/bin/python.exe -m pip install ipykernel -U --user --force-reinstall\""
     ]
    }
   ],
   "source": [
    "def get_KL(p, q):\n",
    "    \n",
    "    KL = 0\n",
    "    for i in range(len(p)):\n",
    "        if q[i] > 0 and p[i] > 0:\n",
    "            KL += p[i]*math.log(p[i]/q[i])\n",
    "    return KL"
   ]
  },
  {
   "cell_type": "raw",
   "id": "45dbce6b-25da-415f-b3a8-535fdb9ab0f8",
   "metadata": {},
   "source": [
    "Distribution functions"
   ]
  },
  {
   "cell_type": "code",
   "execution_count": null,
   "id": "cb15d4ca-d6a0-4eac-933d-75e73bd6836a",
   "metadata": {},
   "outputs": [
    {
     "ename": "",
     "evalue": "",
     "output_type": "error",
     "traceback": [
      "\u001b[1;31mДля выполнения ячеек с \"Python 3.11.7\" требуется пакет ipykernel.\n",
      "\u001b[1;31mВыполните следующую команду, чтобы установить \"ipykernel\" в среде Python. \n",
      "\u001b[1;31mКоманда: \"d:/utilities/m2sys/mingw64/bin/python.exe -m pip install ipykernel -U --user --force-reinstall\""
     ]
    }
   ],
   "source": [
    "def F_geometric(p, x):\n",
    "    q = 1-p\n",
    "    return 1 - q**x\n",
    "\n",
    "def F_binomial(p, k, n):\n",
    "    total_sum = 0\n",
    "    q = 1-p\n",
    "    for i in range(0, k+1):\n",
    "        total_sum+= math.comb(n, i)* p**i * q**(n-i)\n",
    "    return total_sum\n",
    "\n",
    "def F_poisson(x, mx):\n",
    "    lam = mx\n",
    "    total_sum = 0\n",
    "    for i in range(0, x+1):\n",
    "        total_sum+=math.exp(-lam)*lam**i/math.factorial(i)\n",
    "    return total_sum\n",
    "\n",
    "def F_uniform(x, a, b):\n",
    "    return (x-a)/(b-a)\n",
    "\n",
    "def F_normal(x, mx, sigm):\n",
    "    return norm.cdf(x, loc=mx, scale=sigm)\n",
    "\n",
    "def F_exponential(x, mx):\n",
    "    lam = 1/mx\n",
    "    return 1 - math.exp(-lam*x)"
   ]
  },
  {
   "cell_type": "raw",
   "id": "7143da31-e87f-4a64-825c-71803135d38a",
   "metadata": {},
   "source": [
    "Distribution densities"
   ]
  },
  {
   "cell_type": "code",
   "execution_count": null,
   "id": "a7d4c8cb-2c97-4feb-919b-24c9e89b8c19",
   "metadata": {},
   "outputs": [
    {
     "ename": "",
     "evalue": "",
     "output_type": "error",
     "traceback": [
      "\u001b[1;31mДля выполнения ячеек с \"Python 3.11.7\" требуется пакет ipykernel.\n",
      "\u001b[1;31mВыполните следующую команду, чтобы установить \"ipykernel\" в среде Python. \n",
      "\u001b[1;31mКоманда: \"d:/utilities/m2sys/mingw64/bin/python.exe -m pip install ipykernel -U --user --force-reinstall\""
     ]
    }
   ],
   "source": [
    "def f_geometric(p, x):\n",
    "    q = 1-p\n",
    "    return p*q**(x-1)\n",
    "\n",
    "def f_binomial(p, k, n):\n",
    "    q = 1-p\n",
    "    return math.comb(n, k)* p**k * q**(n-k)\n",
    "\n",
    "def f_poisson(x, mx):\n",
    "    lam = mx\n",
    "    return (math.exp(-lam)*lam**x)/math.factorial(x)\n",
    "\n",
    "def f_uniform(x, a, b):\n",
    "    return 1-(b-a)\n",
    "\n",
    "def f_normal(x, mx, sigm):\n",
    "    return 1/(sigm*math.sqrt(2*math.pi)) * math.exp((-(x-mx)**2)/(sigm**2 * 2))\n",
    "\n",
    "def f_exponential(x, mx):\n",
    "    lam = 1/mx\n",
    "    return 1 - b-a"
   ]
  },
  {
   "cell_type": "raw",
   "id": "c11ffa1f-58e1-409d-a987-71549b680295",
   "metadata": {},
   "source": [
    "geometric - p, size\n",
    "binomial - n, p, size\n",
    "poisson - mx, size                         mx = dx\n",
    "normal - mx, sqrt(dx), size\n",
    "uniform - a, b, size                       a < b\n",
    "exponential - mx, size                     dx=mx^2"
   ]
  },
  {
   "cell_type": "code",
   "execution_count": null,
   "id": "98ceba6f-da04-44e8-8a0c-303be91e60ef",
   "metadata": {},
   "outputs": [
    {
     "ename": "",
     "evalue": "",
     "output_type": "error",
     "traceback": [
      "\u001b[1;31mДля выполнения ячеек с \"Python 3.11.7\" требуется пакет ipykernel.\n",
      "\u001b[1;31mВыполните следующую команду, чтобы установить \"ipykernel\" в среде Python. \n",
      "\u001b[1;31mКоманда: \"d:/utilities/m2sys/mingw64/bin/python.exe -m pip install ipykernel -U --user --force-reinstall\""
     ]
    }
   ],
   "source": [
    "p=0.4\n",
    "geom_samples = np.random.geometric(p, size=10000)\n",
    "n = np.max(geom_samples)-1\n",
    "histdata = plt.hist(geom_samples, bins=n, alpha=0.5, weights=[1/len(geom_samples)]*len(geom_samples))\n",
    "#print(histdata[0])\n",
    "#print(histdata[1])\n",
    "plt.xlabel('values')\n",
    "plt.ylabel('Probability')\n",
    "plt.title('Geometric')\n",
    "\n",
    "# table of [x1;x2) intervals, p* values represented on histogram below, p (theoretical)\n",
    "\n",
    "the_great_table = [[(histdata[1][i], histdata[1][i+1]) for i in range(len(histdata[1])-1)],\n",
    "                  [histdata[0][i] for i in range(len(histdata[0]))],\n",
    "                  [f_geometric(p,histdata[1][i]) for i in range(len(histdata[1])-1)]]\n",
    "\n",
    "plt.plot([x1+(x2-x1)/2 for x1, x2 in the_great_table[0]], the_great_table[1], 'r-', label='empirical')\n",
    "plt.plot([x1+(x2-x1)/2 for x1, x2 in the_great_table[0]], the_great_table[2], 'b-', label='theoretical')\n",
    "\n",
    "plt.legend()\n",
    "plt.show()\n",
    "# table of F*(x) based on p* summaring and F(x) theoretical\n",
    "fxs = [[np.sum(the_great_table[1][:i+1]) for i in range(len(the_great_table[1]))],\n",
    "      [F_geometric(p, the_great_table[0][i][0]) for i in range(len(the_great_table[0]))]]\n",
    "\n",
    "plt.xlabel('values')\n",
    "plt.ylabel('Probability')\n",
    "plt.title('Geometric')\n",
    "plt.plot([x1+(x2-x1)/2 for x1, x2 in the_great_table[0]], fxs[0], 'r-', label='empirical')\n",
    "plt.plot([x1+(x2-x1)/2 for x1, x2 in the_great_table[0]], fxs[1], 'b-', label='theoretical')\n",
    "plt.legend()\n",
    "plt.show()\n",
    "print(\"Table of (xi, xi+1], p* and p\")\n",
    "print(the_great_table[0])\n",
    "print(the_great_table[1])\n",
    "print(the_great_table[2])\n",
    "\n",
    "\n",
    "\n",
    "\n",
    "print(\"F*(x):\")\n",
    "print(fxs[0])\n",
    "print(\"F(x):\")\n",
    "print(f\"{fxs[1]}\\n\")\n",
    "\n",
    "\n",
    "# Pearson criteria (hi^2)\n",
    "\n",
    "xi2 = get_hi2_from_3dTable(the_great_table, len(geom_samples))\n",
    "print(f\"\\nhi^2 = {xi2}\")\n",
    "r = n-1 -1\n",
    "print(f\"r = {r}\")\n",
    "print(f\"p-value: {get_p_value_hi2(r, xi2)}\\n\")\n",
    "\n",
    "# Kolmogorov criteria\n",
    "lambd = get_kolmogorov_lambda(fxs, len(geom_samples))\n",
    "print(f\"lambda: {lambd}\")\n",
    "print(f\"p-value: {get_p_value_kolmogorov(lambd)}\")\n",
    "\n",
    "# Lillieforce criteria\n",
    "if n > 14 and n < 26:\n",
    "    zi = np.max([[abs(fxs[0][i]-fxs[1][i]) for i in range(len(fxs[0]))]])\n",
    "    L = get_Lvalue(n, 0.05)\n",
    "    print(f\"\\n\\nLillieforce critical value: {L}\")\n",
    "    print(f\"max zi value: {zi}\")\n",
    "    if zi < L:\n",
    "        print(\"Imperical distribution is according to the theoretical\")\n",
    "    else:\n",
    "        print(\"zi is bigger that L => theoretical distribution  is wrong\")\n",
    "\n",
    "# Kullback-Leibler criteria\n",
    "KL = get_KL(the_great_table[1], the_great_table[2])\n",
    "print(f\"\\n\\nKL: {KL}\")"
   ]
  },
  {
   "cell_type": "code",
   "execution_count": null,
   "id": "453df6be-eae6-45f6-b61a-4598ce005771",
   "metadata": {},
   "outputs": [
    {
     "ename": "",
     "evalue": "",
     "output_type": "error",
     "traceback": [
      "\u001b[1;31mДля выполнения ячеек с \"Python 3.11.7\" требуется пакет ipykernel.\n",
      "\u001b[1;31mВыполните следующую команду, чтобы установить \"ipykernel\" в среде Python. \n",
      "\u001b[1;31mКоманда: \"d:/utilities/m2sys/mingw64/bin/python.exe -m pip install ipykernel -U --user --force-reinstall\""
     ]
    }
   ],
   "source": [
    "def Fx(arr, x):\n",
    "    arr_sorted=np.sort(arr)\n",
    "    P=np.searchsorted(arr_sorted, x, side='right')/len(arr_sorted)\n",
    "    return P"
   ]
  },
  {
   "cell_type": "code",
   "execution_count": null,
   "id": "a7ad68ec-966b-4363-8b1e-6a6ff955f782",
   "metadata": {},
   "outputs": [
    {
     "ename": "",
     "evalue": "",
     "output_type": "error",
     "traceback": [
      "\u001b[1;31mДля выполнения ячеек с \"Python 3.11.7\" требуется пакет ipykernel.\n",
      "\u001b[1;31mВыполните следующую команду, чтобы установить \"ipykernel\" в среде Python. \n",
      "\u001b[1;31mКоманда: \"d:/utilities/m2sys/mingw64/bin/python.exe -m pip install ipykernel -U --user --force-reinstall\""
     ]
    }
   ],
   "source": [
    "p = 0.5\n",
    "N = 45\n",
    "binomial_samples = np.random.binomial(N, p, size=1000000)\n",
    "n = max(binomial_samples) - min(binomial_samples)\n",
    "histdata = plt.hist(binomial_samples, bins=n, alpha=0.5, weights=[1/len(binomial_samples)]*len(binomial_samples))\n",
    "plt.xlabel('values')\n",
    "plt.ylabel('Probability')\n",
    "plt.title('Binomial')\n",
    "\n",
    "the_great_table = [[(histdata[1][i], histdata[1][i+1]) for i in range(len(histdata[1])-1)],\n",
    "                  [histdata[0][i] for i in range(len(histdata[0]))],\n",
    "                  [f_binomial(p,int(histdata[1][i]), N) for i in range(len(histdata[1])-1)]]\n",
    "\n",
    "plt.plot([x1+(x2-x1)/2 for x1, x2 in the_great_table[0]], the_great_table[1], 'r-', label='empirical')\n",
    "plt.plot([x1+(x2-x1)/2 for x1, x2 in the_great_table[0]], the_great_table[2], 'b-', label='theoretical')\n",
    "\n",
    "plt.legend()\n",
    "plt.show()\n",
    "\n",
    "\n",
    "# table of F*(x) based on p* summaring and F(x) theoretical\n",
    "fxs = [[np.sum(the_great_table[1][:i+1]) for i in range(len(the_great_table[1]))],\n",
    "      [F_binomial(p, int(the_great_table[0][i][1]), N) for i in range(len(the_great_table[0]))]]\n",
    "\n",
    "plt.xlabel('values')\n",
    "plt.ylabel('Probability')\n",
    "plt.title('Geometric')\n",
    "plt.plot([x1+(x2-x1)/2 for x1, x2 in the_great_table[0]], fxs[0], 'r-', label='empirical')\n",
    "plt.plot([x1+(x2-x1)/2 for x1, x2 in the_great_table[0]], fxs[1], 'b-', label='theoretical')\n",
    "plt.legend()\n",
    "plt.show()\n",
    "print(\"Table of (xi, xi+1], p* and p\")\n",
    "print(the_great_table[0])\n",
    "print(the_great_table[1])\n",
    "print(the_great_table[2])\n",
    "\n",
    "\n",
    "print(\"F*(x):\")\n",
    "print(fxs[0])\n",
    "print(\"F(x):\")\n",
    "print(f\"{fxs[1]}\\n\")\n",
    "\n",
    "# Pearson criteria (hi^2)\n",
    "\n",
    "xi2 = get_hi2_from_3dTable(the_great_table, len(binomial_samples))\n",
    "print(f\"\\nhi^2 = {xi2}\")\n",
    "r = n-1 -1\n",
    "print(f\"r = {r}\")\n",
    "print(f\"p-value: {get_p_value_hi2(r, xi2)}\\n\")\n",
    "\n",
    "# Kolmogorov criteria\n",
    "lambd = get_kolmogorov_lambda(fxs, len(binomial_samples))\n",
    "print(f\"lambda: {lambd}\")\n",
    "print(f\"p-value: {get_p_value_kolmogorov(lambd)}\")\n",
    "\n",
    "# Lillieforce criteria\n",
    "if n > 14 and n < 26:\n",
    "    zi = np.max([[abs(fxs[0][i]-fxs[1][i]) for i in range(len(fxs[0]))]])\n",
    "    L = get_Lvalue(n, 0.05)\n",
    "    print(f\"\\n\\nLillieforce critical value: {L}\")\n",
    "    print(f\"max zi value: {zi}\")\n",
    "    if zi < L:\n",
    "        print(\"Imperical distribution is according to the theoretical\")\n",
    "    else:\n",
    "        print(\"zi is bigger that L => theoretical distribution  is wrong\")\n",
    "\n",
    "# Kullback-Leibler criteria\n",
    "KL = get_KL(the_great_table[1], the_great_table[2])\n",
    "print(f\"\\n\\nKL: {KL}\")"
   ]
  },
  {
   "cell_type": "code",
   "execution_count": null,
   "id": "c8360e42-8123-49de-8d75-b670944f2490",
   "metadata": {},
   "outputs": [
    {
     "ename": "",
     "evalue": "",
     "output_type": "error",
     "traceback": [
      "\u001b[1;31mДля выполнения ячеек с \"Python 3.11.7\" требуется пакет ipykernel.\n",
      "\u001b[1;31mВыполните следующую команду, чтобы установить \"ipykernel\" в среде Python. \n",
      "\u001b[1;31mКоманда: \"d:/utilities/m2sys/mingw64/bin/python.exe -m pip install ipykernel -U --user --force-reinstall\""
     ]
    }
   ],
   "source": [
    "### mean = 15\n",
    "poisson_samples = np.random.poisson(mean, size=10000)\n",
    "n = max(poisson_samples)-min(poisson_samples)\n",
    "histdata = plt.hist(poisson_samples, bins=n, alpha=0.5, weights=[1/len(poisson_samples)]*len(poisson_samples))\n",
    "plt.xlabel('values')\n",
    "plt.ylabel('Probability')\n",
    "plt.title('Poisson')\n",
    "\n",
    "\n",
    "# table of [x1;x2) intervals, p* values represented on histogram below, p (theoretical)\n",
    "\n",
    "the_great_table = [[(histdata[1][i], histdata[1][i+1]) for i in range(len(histdata[1])-1)],\n",
    "                  [histdata[0][i] for i in range(len(histdata[0]))],\n",
    "                  [f_poisson(int(histdata[1][i]),mean) for i in range(len(histdata[1])-1)]]\n",
    "\n",
    "plt.plot([x1+(x2-x1)/2 for x1, x2 in the_great_table[0]], the_great_table[1], 'r-', label='empirical')\n",
    "plt.plot([x1+(x2-x1)/2 for x1, x2 in the_great_table[0]], the_great_table[2], 'b-', label='theoretical')\n",
    "\n",
    "plt.legend()\n",
    "plt.show()\n",
    "fxs = [[np.sum(the_great_table[1][:i+1]) for i in range(len(the_great_table[1]))],\n",
    "      [F_poisson(int(the_great_table[0][i][0]), mean) for i in range(len(the_great_table[0]))]]\n",
    "\n",
    "plt.xlabel('values')\n",
    "plt.ylabel('Probability')\n",
    "plt.title('Poisson')\n",
    "plt.plot([x1+(x2-x1)/2 for x1, x2 in the_great_table[0]], fxs[0], 'r-', label='empirical')\n",
    "plt.plot([x1+(x2-x1)/2 for x1, x2 in the_great_table[0]], fxs[1], 'b-', label='theoretical')\n",
    "plt.legend()\n",
    "plt.show()\n",
    "\n",
    "print(\"Table of (xi, xi+1], p* and p\")\n",
    "print(the_great_table[0])\n",
    "print(the_great_table[1])\n",
    "print(the_great_table[2])\n",
    "\n",
    "# table of F*(x) based on p* summaring and F(x) theoretical\n",
    "\n",
    "print(\"F*(x):\")\n",
    "print(fxs[0])\n",
    "print(\"F(x):\")\n",
    "print(f\"{fxs[1]}\\n\")\n",
    "\n",
    "\n",
    "# Pearson criteria (hi^2)\n",
    "\n",
    "xi2 = get_hi2_from_3dTable(the_great_table, len(poisson_samples))\n",
    "print(f\"\\nhi^2 = {xi2}\")\n",
    "r = n-1 -3\n",
    "print(f\"r = {r}\")\n",
    "print(f\"p-value: {get_p_value_hi2(r, xi2)}\\n\")\n",
    "\n",
    "# Kolmogorov criteria\n",
    "lambd = get_kolmogorov_lambda(fxs, len(poisson_samples))\n",
    "print(f\"lambda: {lambd}\")\n",
    "print(f\"p-value: {get_p_value_kolmogorov(lambd)}\")\n",
    "\n",
    "# Lillieforce criteria\n",
    "if n > 14 and n < 26:\n",
    "    zi = np.max([[abs(fxs[0][i]-fxs[1][i]) for i in range(len(fxs[0]))]])\n",
    "    L = get_Lvalue(n, 0.05)\n",
    "    print(f\"\\n\\nLillieforce critical value: {L}\")\n",
    "    print(f\"max zi value: {zi}\")\n",
    "    if zi < L:\n",
    "        print(\"Imperical distribution is according to the theoretical\")\n",
    "    else:\n",
    "        print(\"zi is bigger that L => theoretical distribution  is wrong\")\n",
    "\n",
    "# Kullback-Leibler criteria\n",
    "KL = get_KL(the_great_table[1], the_great_table[2])\n",
    "print(f\"\\n\\nKL: {KL}\")"
   ]
  },
  {
   "cell_type": "code",
   "execution_count": null,
   "id": "7709df80-c4bd-4f05-b059-96303fe9fd4f",
   "metadata": {},
   "outputs": [
    {
     "ename": "",
     "evalue": "",
     "output_type": "error",
     "traceback": [
      "\u001b[1;31mДля выполнения ячеек с \"Python 3.11.7\" требуется пакет ipykernel.\n",
      "\u001b[1;31mВыполните следующую команду, чтобы установить \"ipykernel\" в среде Python. \n",
      "\u001b[1;31mКоманда: \"d:/utilities/m2sys/mingw64/bin/python.exe -m pip install ipykernel -U --user --force-reinstall\""
     ]
    }
   ],
   "source": [
    "mean = 22.5\n",
    "sigma = 5\n",
    "normal_samples = np.random.normal(mean, sigma, size=10000)\n",
    "n = 20\n",
    "histdata = plt.hist(normal_samples, bins=n, alpha=0.5, weights=[1/len(normal_samples)]*len(normal_samples))\n",
    "plt.xlabel('values')\n",
    "plt.ylabel('Probability')\n",
    "plt.title('Normal')\n",
    "\n",
    "\n",
    "xis_centered = [histdata[1][i]+(histdata[1][i+1]- histdata[1][i])/2 for i in range(len(histdata[1])-1)]\n",
    "xis = [(histdata[1][i], histdata[1][i+1]) for i in range(len(histdata[1])-1)]\n",
    "the_great_table = [[(histdata[1][i], histdata[1][i+1]) for i in range(len(histdata[1])-1)],\n",
    "                  [histdata[0][i] for i in range(len(histdata[0]))],\n",
    "                  [F_normal(xis[i][1], mean,sigma)-F_normal(xis[i][0], mean,sigma) for i in range(len(xis))]]\n",
    "plt.plot([x1+(x2-x1)/2 for x1, x2 in the_great_table[0]], the_great_table[1], 'r-', label='empirical')\n",
    "plt.plot([x1+(x2-x1)/2 for x1, x2 in the_great_table[0]], the_great_table[2], 'b-', label='theoretical')\n",
    "\n",
    "plt.legend()\n",
    "plt.show()\n",
    "# table of F*(x) based on p* summaring and F(x) theoretical\n",
    "fxs = [[np.sum(the_great_table[1][:i+1]) for i in range(len(the_great_table[1]))],\n",
    "      [F_normal(xis[i][1], mean,sigma) for i in range(len(xis))]]\n",
    "\n",
    "plt.xlabel('values')\n",
    "plt.ylabel('Probability')\n",
    "plt.title('Normal')\n",
    "plt.plot([x1+(x2-x1)/2 for x1, x2 in the_great_table[0]], fxs[0], 'r-', label='empirical')\n",
    "plt.plot([x1+(x2-x1)/2 for x1, x2 in the_great_table[0]], fxs[1], 'b-', label='theoretical')\n",
    "plt.legend()\n",
    "plt.show()\n",
    "\n",
    "print(the_great_table[0])\n",
    "print(the_great_table[1])\n",
    "print(the_great_table[2])\n",
    "\n",
    "\n",
    "print(\"Table of (xi, xi+1], p* and p\")\n",
    "\n",
    "\n",
    "print(\"F*(x):\")\n",
    "print(fxs[0])\n",
    "print(\"F(x):\")\n",
    "print(f\"{fxs[1]}\\n\")\n",
    "\n",
    "\n",
    "\n",
    "\n",
    "# Pearson criteria (hi^2)\n",
    "\n",
    "xi2 = get_hi2_from_3dTable(the_great_table, len(normal_samples))\n",
    "print(f\"\\nhi^2 = {xi2}\")\n",
    "r = n-1 -1\n",
    "print(f\"r = {r}\")\n",
    "print(f\"p-value: {get_p_value_hi2(r, xi2)}\\n\")\n",
    "\n",
    "# Kolmogorov criteria\n",
    "lambd = get_kolmogorov_lambda(fxs, len(normal_samples))\n",
    "print(f\"lambda: {lambd}\")\n",
    "print(f\"p-value: {get_p_value_kolmogorov(lambd)}\")\n",
    "\n",
    "\n",
    "# Lillieforce criteria\n",
    "if n > 14 and n < 26:\n",
    "    zi = np.max([[abs(fxs[0][i]-fxs[1][i]) for i in range(len(fxs[0]))]])\n",
    "    L = get_Lvalue(n, 0.05)\n",
    "    print(f\"\\n\\nLillieforce critical value: {L}\")\n",
    "    print(f\"max zi value: {zi}\")\n",
    "    if zi < L:\n",
    "        print(\"Imperical distribution is according to the theoretical\")\n",
    "    else:\n",
    "        print(\"zi is bigger that L => theoretical distribution  is wrong\")\n",
    "\n",
    "\n",
    "# Kullback-Leibler criteria\n",
    "KL = get_KL(the_great_table[1], the_great_table[2])\n",
    "print(f\"\\n\\nKL: {KL}\")"
   ]
  },
  {
   "cell_type": "code",
   "execution_count": null,
   "id": "0760ec41-0aad-4861-a691-c21716cefa11",
   "metadata": {},
   "outputs": [
    {
     "ename": "",
     "evalue": "",
     "output_type": "error",
     "traceback": [
      "\u001b[1;31mДля выполнения ячеек с \"Python 3.11.7\" требуется пакет ipykernel.\n",
      "\u001b[1;31mВыполните следующую команду, чтобы установить \"ipykernel\" в среде Python. \n",
      "\u001b[1;31mКоманда: \"d:/utilities/m2sys/mingw64/bin/python.exe -m pip install ipykernel -U --user --force-reinstall\""
     ]
    }
   ],
   "source": [
    "a = 1\n",
    "b = 15\n",
    "n = 15\n",
    "uniform_samples = np.random.uniform(a,b, size=100000)\n",
    "histdata = plt.hist(uniform_samples, bins=n, alpha=0.5, weights=[1/len(uniform_samples)]*len(uniform_samples))\n",
    "plt.xlabel('values')\n",
    "plt.ylabel('Probability')\n",
    "plt.title('Uniform')\n",
    "\n",
    "xis = [(histdata[1][i], histdata[1][i+1]) for i in range(len(histdata[1])-1)]\n",
    "the_great_table = [[(histdata[1][i], histdata[1][i+1]) for i in range(len(histdata[1])-1)],\n",
    "                  [histdata[0][i] for i in range(len(histdata[0]))],\n",
    "                  [F_uniform(xis[i][1], a,b)-F_uniform(xis[i][0], a,b) for i in range(len(xis))]]\n",
    "\n",
    "plt.plot([x1+(x2-x1)/2 for x1, x2 in the_great_table[0]], the_great_table[1], 'r-', label='empirical')\n",
    "plt.plot([x1+(x2-x1)/2 for x1, x2 in the_great_table[0]], the_great_table[2], 'b-', label='theoretical')\n",
    "\n",
    "plt.legend()\n",
    "plt.show()\n",
    "\n",
    "\n",
    "# table of F*(x) based on p* summaring and F(x) theoretical\n",
    "fxs = [[np.sum(the_great_table[1][:i+1]) for i in range(len(the_great_table[1]))],\n",
    "      [F_uniform(xis[i][1], a,b) for i in range(len(xis))]]\n",
    "\n",
    "plt.xlabel('values')\n",
    "plt.ylabel('Probability')\n",
    "plt.title('Uniform')\n",
    "plt.plot([x1+(x2-x1)/2 for x1, x2 in the_great_table[0]], fxs[0], 'r-', label='empirical')\n",
    "plt.plot([x1+(x2-x1)/2 for x1, x2 in the_great_table[0]], fxs[1], 'b-', label='theoretical')\n",
    "plt.legend()\n",
    "plt.show()\n",
    "\n",
    "print(\"Table of (xi, xi+1], p* and p\")\n",
    "print(the_great_table[0])\n",
    "print(the_great_table[1])\n",
    "print(the_great_table[2])\n",
    "\n",
    "print(\"F*(x):\")\n",
    "print(fxs[0])\n",
    "print(\"F(x):\")\n",
    "print(f\"{fxs[1]}\\n\")\n",
    "\n",
    "\n",
    "# Pearson criteria (hi^2)\n",
    "\n",
    "xi2 = get_hi2_from_3dTable(the_great_table, len(uniform_samples))\n",
    "print(f\"\\nhi^2 = {xi2}\")\n",
    "r = n-1 -1\n",
    "print(f\"r = {r}\")\n",
    "print(f\"p-value: {get_p_value_hi2(r, xi2)}\\n\")\n",
    "\n",
    "# Kolmogorov criteria\n",
    "lambd = get_kolmogorov_lambda(fxs, len(uniform_samples))\n",
    "print(f\"lambda: {lambd}\")\n",
    "print(f\"p-value: {get_p_value_kolmogorov(lambd)}\")\n",
    "\n",
    "\n",
    "# Lillieforce criteria\n",
    "if n > 14 and n < 26:\n",
    "    zi = np.max([[abs(fxs[0][i]-fxs[1][i]) for i in range(len(fxs[0]))]])\n",
    "    L = get_Lvalue(n, 0.05)\n",
    "    print(f\"\\n\\nLillieforce critical value: {L}\")\n",
    "    print(f\"max zi value: {zi}\")\n",
    "    if zi < L:\n",
    "        print(\"Imperical distribution is according to the theoretical\")\n",
    "    else:\n",
    "        print(\"zi is bigger that L => theoretical distribution  is wrong\")\n",
    "\n",
    "\n",
    "# Kullback-Leibler criteria\n",
    "KL = get_KL(the_great_table[1], the_great_table[2])\n",
    "print(f\"\\n\\nKL: {KL}\")"
   ]
  },
  {
   "cell_type": "code",
   "execution_count": null,
   "id": "a086e930-906e-448e-a322-dd0d20235d91",
   "metadata": {},
   "outputs": [
    {
     "ename": "",
     "evalue": "",
     "output_type": "error",
     "traceback": [
      "\u001b[1;31mДля выполнения ячеек с \"Python 3.11.7\" требуется пакет ipykernel.\n",
      "\u001b[1;31mВыполните следующую команду, чтобы установить \"ipykernel\" в среде Python. \n",
      "\u001b[1;31mКоманда: \"d:/utilities/m2sys/mingw64/bin/python.exe -m pip install ipykernel -U --user --force-reinstall\""
     ]
    }
   ],
   "source": [
    "mean = 15\n",
    "n = 20\n",
    "exponential_samples = np.random.exponential(mean, size=10000)\n",
    "\n",
    "histdata = plt.hist(exponential_samples, bins=n, alpha=0.5, weights=[1/len(exponential_samples)]*len(exponential_samples))\n",
    "\n",
    "plt.xlabel('values')\n",
    "plt.ylabel('Probability')\n",
    "plt.title('exponencial')\n",
    "\n",
    "xis = [(histdata[1][i], histdata[1][i+1]) for i in range(len(histdata[1])-1)]\n",
    "the_great_table = [[(histdata[1][i], histdata[1][i+1]) for i in range(len(histdata[1])-1)],\n",
    "                  [histdata[0][i] for i in range(len(histdata[0]))],\n",
    "                  [F_exponential(xis[i][1], mean)-F_exponential(xis[i][0], mean) for i in range(len(xis))]]\n",
    "\n",
    "plt.plot([x1+(x2-x1)/2 for x1, x2 in the_great_table[0]], the_great_table[1], 'r-', label='empirical')\n",
    "plt.plot([x1+(x2-x1)/2 for x1, x2 in the_great_table[0]], the_great_table[2], 'b-', label='theoretical')\n",
    "\n",
    "plt.legend()\n",
    "plt.show()\n",
    "\n",
    "\n",
    "\n",
    "# table of F*(x) based on p* summaring and F(x) theoretical\n",
    "fxs = [[np.sum(the_great_table[1][:i+1]) for i in range(len(the_great_table[1]))],\n",
    "      [F_exponential(xis[i][1], mean) for i in range(len(xis))]]\n",
    "\n",
    "plt.xlabel('values')\n",
    "plt.ylabel('Probability')\n",
    "plt.title('Normal')\n",
    "plt.plot([x1+(x2-x1)/2 for x1, x2 in the_great_table[0]], fxs[0], 'r-', label='empirical')\n",
    "plt.plot([x1+(x2-x1)/2 for x1, x2 in the_great_table[0]], fxs[1], 'b-', label='theoretical')\n",
    "plt.legend()\n",
    "plt.show()\n",
    "\n",
    "print(\"Table of (xi, xi+1], p* and p\")\n",
    "print(the_great_table[0])\n",
    "print(the_great_table[1])\n",
    "print(the_great_table[2])\n",
    "\n",
    "print(\"F*(x):\")\n",
    "print(fxs[0])\n",
    "print(\"F(x):\")\n",
    "print(f\"{fxs[1]}\\n\")\n",
    "\n",
    "\n",
    "# Pearson criteria (hi^2)\n",
    "\n",
    "xi2 = get_hi2_from_3dTable(the_great_table, len(exponential_samples))\n",
    "print(f\"\\nhi^2 = {xi2}\")\n",
    "r = n-1 -3\n",
    "print(f\"r = {r}\")\n",
    "print(f\"p-value: {get_p_value_hi2(r, xi2)}\\n\")\n",
    "\n",
    "# Kolmogorov criteria\n",
    "lambd = get_kolmogorov_lambda(fxs, len(exponential_samples))\n",
    "print(f\"lambda: {lambd}\")\n",
    "print(f\"p-value: {get_p_value_kolmogorov(lambd)}\")\n",
    "\n",
    "\n",
    "# Lillieforce criteria\n",
    "if n > 14 and n < 26:\n",
    "    zi = np.max([[abs(fxs[0][i]-fxs[1][i]) for i in range(len(fxs[0]))]])\n",
    "    L = get_Lvalue(n, 0.05)\n",
    "    print(f\"\\n\\nLillieforce critical value: {L}\")\n",
    "    print(f\"max zi value: {zi}\")\n",
    "    if zi < L:\n",
    "        print(\"Imperical distribution is according to the theoretical\")\n",
    "    else:\n",
    "        print(\"zi is bigger that L => theoretical distribution  is wrong\")\n",
    "\n",
    "\n",
    "# Kullback-Leibler criteria\n",
    "KL = get_KL(the_great_table[1], the_great_table[2])\n",
    "print(f\"\\n\\nKL: {KL}\")"
   ]
  },
  {
   "cell_type": "raw",
   "id": "03724b85-a7bf-4523-9821-3bd73e867c2f",
   "metadata": {},
   "source": [
    "Trial to make Anderson-Darling test work"
   ]
  },
  {
   "cell_type": "code",
   "execution_count": null,
   "id": "7165ad67-fa3d-42ab-a818-3e023469067c",
   "metadata": {},
   "outputs": [
    {
     "ename": "",
     "evalue": "",
     "output_type": "error",
     "traceback": [
      "\u001b[1;31mДля выполнения ячеек с \"Python 3.11.7\" требуется пакет ipykernel.\n",
      "\u001b[1;31mВыполните следующую команду, чтобы установить \"ipykernel\" в среде Python. \n",
      "\u001b[1;31mКоманда: \"d:/utilities/m2sys/mingw64/bin/python.exe -m pip install ipykernel -U --user --force-reinstall\""
     ]
    }
   ],
   "source": [
    "mean = 0.5\n",
    "sigma = 0.1\n",
    "normal_samples = np.random.normal(mean, sigma, size=15000)\n",
    "n = 20\n",
    "histdata = plt.hist(normal_samples, bins=n, alpha=0.5, weights=[1/len(normal_samples)]*len(normal_samples))\n",
    "plt.xlabel('values')\n",
    "plt.ylabel('Probability')\n",
    "plt.title('Normal')\n",
    "plt.show()\n",
    "\n",
    "samples_sorted = sorted(normal_samples)\n",
    "fxs = [[1/len(samples_sorted)*(i+1) for i in range(len(samples_sorted))],\n",
    "       [F_normal(samples_sorted[i], mean, sigma) for i in range(len(samples_sorted))][::-1]]\n",
    "AD = get_AD2(fxs, len(samples_sorted))\n",
    "print(f\"AD statisstic value: {AD}\")\n",
    "print(f\"p-value: {get_p_value_ADtest(AD)}\")"
   ]
  },
  {
   "cell_type": "code",
   "execution_count": null,
   "id": "92c97a96-53f8-4a95-a7de-d2879f006e69",
   "metadata": {},
   "outputs": [
    {
     "ename": "",
     "evalue": "",
     "output_type": "error",
     "traceback": [
      "\u001b[1;31mДля выполнения ячеек с \"Python 3.11.7\" требуется пакет ipykernel.\n",
      "\u001b[1;31mВыполните следующую команду, чтобы установить \"ipykernel\" в среде Python. \n",
      "\u001b[1;31mКоманда: \"d:/utilities/m2sys/mingw64/bin/python.exe -m pip install ipykernel -U --user --force-reinstall\""
     ]
    }
   ],
   "source": []
  }
 ],
 "metadata": {
  "kernelspec": {
   "display_name": "Python 3 (ipykernel)",
   "language": "python",
   "name": "python3"
  },
  "language_info": {
   "codemirror_mode": {
    "name": "ipython",
    "version": 3
   },
   "file_extension": ".py",
   "mimetype": "text/x-python",
   "name": "python",
   "nbconvert_exporter": "python",
   "pygments_lexer": "ipython3",
   "version": "3.12.3"
  }
 },
 "nbformat": 4,
 "nbformat_minor": 5
}
