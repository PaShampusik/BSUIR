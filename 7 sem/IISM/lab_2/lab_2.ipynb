{
 "cells": [
  {
   "cell_type": "markdown",
   "id": "0c8f1a1f",
   "metadata": {},
   "source": [
    "### Лабораторная работа 2. "
   ]
  },
  {
   "cell_type": "markdown",
   "id": "a1b8035d",
   "metadata": {},
   "source": [
    "#### Задание 1. ИМИТАЦИЯ НЕПРЕРЫВНЫХ СЛУЧАЙНЫХ ВЕЛИЧИН (МЕТОД ОБРАТНЫХ ФУНКЦИЙ)"
   ]
  },
  {
   "cell_type": "code",
   "id": "080b838d",
   "metadata": {
    "ExecuteTime": {
     "end_time": "2024-10-06T18:29:43.559321Z",
     "start_time": "2024-10-06T18:29:43.556132Z"
    }
   },
   "source": [
    "from random import random, uniform\n",
    "from math import erf, log, exp\n",
    "import numpy as np\n",
    "import matplotlib.pyplot as plt\n",
    "from sympy import *\n",
    "from sympy import simplify\n",
    "from sympy.abc import x, y\n",
    "from sympy.calculus.util import continuous_domain\n",
    "from scipy.stats import norm, chi2\n"
   ],
   "outputs": [],
   "execution_count": 79
  },
  {
   "cell_type": "code",
   "id": "f728d44a",
   "metadata": {
    "ExecuteTime": {
     "end_time": "2024-10-06T18:29:43.569322Z",
     "start_time": "2024-10-06T18:29:43.565325Z"
    }
   },
   "source": [
    "inverse_function = \"\"\n",
    "distribution_expression = \"\"\n",
    "plt.rcParams[\"figure.figsize\"] = (10, 30)\n",
    "number_of_dots = 1000\n",
    "gamma = 0.95 # уровень доверия\n",
    "hypothesis_error_value = 0.05 "
   ],
   "outputs": [],
   "execution_count": 80
  },
  {
   "cell_type": "markdown",
   "id": "213af841",
   "metadata": {},
   "source": [
    "#### Линейный конгруэнтный метод"
   ]
  },
  {
   "cell_type": "code",
   "id": "1848a6a7",
   "metadata": {
    "ExecuteTime": {
     "end_time": "2024-10-06T18:29:43.583522Z",
     "start_time": "2024-10-06T18:29:43.579946Z"
    }
   },
   "source": [
    "# Линейный конгруэнтный метод \n",
    "class CustomGenerator:\n",
    "    seed = 42\n",
    "    alpha = 1664525\n",
    "    c = 1013904223\n",
    "    m = 2 ** 32\n",
    "    x_current = seed\n",
    "    \n",
    "    @staticmethod\n",
    "    def random():\n",
    "        CustomGenerator.x_current = (CustomGenerator.alpha * CustomGenerator.x_current + CustomGenerator.c) % CustomGenerator.m\n",
    "        return CustomGenerator.x_current / CustomGenerator.m"
   ],
   "outputs": [],
   "execution_count": 81
  },
  {
   "cell_type": "markdown",
   "id": "eed5734c",
   "metadata": {},
   "source": [
    "#### Поиск обратной функции"
   ]
  },
  {
   "cell_type": "code",
   "id": "cee4c81b",
   "metadata": {
    "ExecuteTime": {
     "end_time": "2024-10-06T18:29:43.597178Z",
     "start_time": "2024-10-06T18:29:43.594074Z"
    }
   },
   "source": [
    "def find_inverse_function(input_text): \n",
    "    global inverse_function\n",
    "    ex = sympify(input_text)\n",
    "    distribution_expression = ex\n",
    "    extra = ex - y\n",
    "    results = solve(extra, x)\n",
    "    # print(results)\n",
    "    \n",
    "    is_found = False\n",
    "    for result in results:\n",
    "        is_continuous = continuous_domain(result, y, S.Reals).is_proper_superset(Interval(0, 1))\n",
    "        derivative = diff(result, y)\n",
    "        derivative_positive = solve(derivative > 0, y, domain=S.Reals)\n",
    "        if derivative_positive and is_continuous:\n",
    "            print(f\"Обратная функция: {result}\")\n",
    "            inverse_function = lambdify(y, result)\n",
    "            is_found = True\n",
    "            break\n",
    "\n",
    "    if not is_found:\n",
    "        print(\"обратная функция не найдена\")\n"
   ],
   "outputs": [],
   "execution_count": 82
  },
  {
   "cell_type": "markdown",
   "id": "079eff4f",
   "metadata": {},
   "source": [
    "#### Генерация значений"
   ]
  },
  {
   "cell_type": "code",
   "id": "38ff8043",
   "metadata": {
    "ExecuteTime": {
     "end_time": "2024-10-06T18:29:43.610313Z",
     "start_time": "2024-10-06T18:29:43.607818Z"
    }
   },
   "source": [
    "generator = CustomGenerator()\n",
    "\n",
    "def generate_func_data(amount):\n",
    "    global inverse_function\n",
    "    data=[]\n",
    "    for i in range(amount):\n",
    "        y = generator.random()\n",
    "        data.append(inverse_function(y))\n",
    "    return data"
   ],
   "outputs": [],
   "execution_count": 83
  },
  {
   "cell_type": "markdown",
   "id": "54abb6fd",
   "metadata": {},
   "source": [
    "#### Нахождение матожидайний"
   ]
  },
  {
   "cell_type": "code",
   "id": "09788a30",
   "metadata": {
    "ExecuteTime": {
     "end_time": "2024-10-06T18:29:43.623572Z",
     "start_time": "2024-10-06T18:29:43.620896Z"
    }
   },
   "source": [
    "def calculate_sample_mean(sample):\n",
    "    return sum(sample) / len(sample)\n",
    "\n",
    "def calculate_theoretical_mean(func, limits):\n",
    "    return integrate(x * func, (x, limits[0], limits[1]))"
   ],
   "outputs": [],
   "execution_count": 84
  },
  {
   "cell_type": "markdown",
   "id": "faee0261",
   "metadata": {},
   "source": [
    "#### Нахождение дисперсий"
   ]
  },
  {
   "cell_type": "code",
   "id": "f0135898",
   "metadata": {
    "ExecuteTime": {
     "end_time": "2024-10-06T18:29:43.637418Z",
     "start_time": "2024-10-06T18:29:43.634570Z"
    }
   },
   "source": [
    "def calculate_sample_variance(sample):\n",
    "    sample_mean = calculate_sample_mean(sample)\n",
    "    variance = sum((x - sample_mean) ** 2 for x in sample) / len(sample)\n",
    "    return variance\n",
    "\n",
    "def calculate_theoretical_variance(func, limits, theoretical_mean):\n",
    "    integral = integrate(x ** 2 * func, (x, limits[0], limits[1]))\n",
    "    theoretical_variance = integral - theoretical_mean ** 2\n",
    "    return theoretical_variance.evalf()"
   ],
   "outputs": [],
   "execution_count": 85
  },
  {
   "cell_type": "code",
   "id": "2f481731",
   "metadata": {
    "ExecuteTime": {
     "end_time": "2024-10-06T18:29:43.651041Z",
     "start_time": "2024-10-06T18:29:43.648245Z"
    }
   },
   "source": [
    "# confidence interval\n",
    "def get_delta(offset):\n",
    "    t = norm.ppf(gamma / 2 + 0.5) # квантили\n",
    "    return t * offset / np.sqrt(number_of_tests) # Margin of Error\n",
    "\n",
    "def get_offset_delta(test_offset): # build confidence level (хи квадрат)\n",
    "    alphas = ((1 - gamma) / 2, (1 + gamma) / 2)  #границы для вычисления квантили хиквадрат распределения\n",
    "    chis = (chi2.isf(alphas, number_of_tests - 1)) \n",
    "    temp = np.sqrt(number_of_tests - 1) * test_offset\n",
    "    \n",
    "    return (temp / np.sqrt(chis[0]), temp / np.sqrt(chis[1]))"
   ],
   "outputs": [],
   "execution_count": 86
  },
  {
   "cell_type": "markdown",
   "id": "1018d2ac",
   "metadata": {},
   "source": [
    "#### Непрерывная случайная величина"
   ]
  },
  {
   "cell_type": "code",
   "id": "7e2f4d5c",
   "metadata": {
    "ExecuteTime": {
     "end_time": "2024-10-06T18:29:53.345451Z",
     "start_time": "2024-10-06T18:29:43.662939Z"
    }
   },
   "source": [
    "func = input(\"Your function:\\n\")\n",
    "find_inverse_function(func)\n"
   ],
   "outputs": [
    {
     "name": "stdout",
     "output_type": "stream",
     "text": [
      "Обратная функция: sqrt(2*y + 2)/2\n"
     ]
    }
   ],
   "execution_count": 87
  },
  {
   "cell_type": "code",
   "id": "13059bcf",
   "metadata": {
    "ExecuteTime": {
     "end_time": "2024-10-06T18:29:57.180454Z",
     "start_time": "2024-10-06T18:29:53.354841Z"
    }
   },
   "source": [
    "number_of_tests = int(input(\"Amount of random values:\\n\"))\n",
    "\n",
    "func_data = generate_func_data(number_of_tests)\n",
    "\n",
    "limits = (inverse_function(0), inverse_function(1))"
   ],
   "outputs": [],
   "execution_count": 88
  },
  {
   "cell_type": "code",
   "id": "963147bd",
   "metadata": {
    "ExecuteTime": {
     "end_time": "2024-10-06T18:29:57.207795Z",
     "start_time": "2024-10-06T18:29:57.192145Z"
    }
   },
   "source": [
    "ex = simplify(func)\n",
    "derivate = diff(ex, x)\n",
    "\n",
    "sample_mean = calculate_sample_mean(func_data) \n",
    "sample_variance = calculate_sample_variance(func_data) \n",
    "sample_std_deviation = sqrt(sample_variance)\n",
    "\n",
    "theoretical_mean = calculate_theoretical_mean(derivate, limits)\n",
    "theoretical_variance = calculate_theoretical_variance(derivate, limits, theoretical_mean)\n",
    "theoretical_std_deviation = sqrt(theoretical_variance)"
   ],
   "outputs": [],
   "execution_count": 89
  },
  {
   "cell_type": "code",
   "id": "d571ed69",
   "metadata": {
    "ExecuteTime": {
     "end_time": "2024-10-06T18:29:57.221862Z",
     "start_time": "2024-10-06T18:29:57.219004Z"
    }
   },
   "source": [
    "print(sample_mean)\n",
    "print(sample_variance)\n",
    "print(sample_std_deviation)\n",
    "\n",
    "print(theoretical_mean)\n",
    "print(theoretical_variance)\n",
    "print(theoretical_std_deviation)"
   ],
   "outputs": [
    {
     "name": "stdout",
     "output_type": "stream",
     "text": [
      "0.7644583084490714\n",
      "0.0007210496919668356\n",
      "0.0268523684610285\n",
      "0.861928812542301\n",
      "0.00707872210941818\n",
      "0.0841351419409166\n"
     ]
    }
   ],
   "execution_count": 90
  },
  {
   "cell_type": "code",
   "id": "b3d96b85",
   "metadata": {
    "ExecuteTime": {
     "end_time": "2024-10-06T18:29:57.994039Z",
     "start_time": "2024-10-06T18:29:57.232164Z"
    }
   },
   "source": [
    "hist, bins = np.histogram(func_data, bins=number_of_dots, range=limits)\n",
    "plt.subplot(6, 1, 1)  \n",
    "plt.tight_layout(pad = 5)\n",
    "plt.hist(x=func_data, color=\"blue\", bins=number_of_dots, range=limits)\n",
    "plt.xlim(limits)\n",
    "plt.title(\"Плотность распределения\")\n",
    "    \n",
    "\n",
    "# building derivate plot\n",
    "derivative_expr = diff(ex, x)\n",
    "    \n",
    "length = (limits[1] - limits[0]) / number_of_dots # step\n",
    "dots = np.arange(limits[0] + length / 2, limits[1], length) # Точки для оценки производной\n",
    "derivative = lambdify(x, length * number_of_tests * derivative_expr)\n",
    "results = list(map(derivative, dots))\n",
    "plt.plot(dots, results, marker=11, color=\"black\")\n",
    "    \n",
    "# гистограмма накопленных частот\n",
    "extra_hist = hist.copy()\n",
    "    \n",
    "for i in range(1, len(hist)):\n",
    "    extra_hist[i] += extra_hist[i-1]\n",
    "        \n",
    "plt.subplot(6, 1, 2)\n",
    "ax = plt.gca()\n",
    "ax.bar(bins[:-1], extra_hist, width = length, align=\"edge\", color='green')\n",
    "\n",
    "distribution_function = lambdify(x, number_of_tests * ex)\n",
    "distribution_dots = np.arange(limits[0] + length, limits[1] + length / 10, length)\n",
    "distribution_results = list(map(distribution_function, distribution_dots))\n",
    "    \n",
    "plt.plot(distribution_dots, distribution_results, marker=11, color=\"black\")\n",
    "plt.title(\"Функция распределения\")\n",
    "plt.show()"
   ],
   "outputs": [
    {
     "data": {
      "text/plain": [
       "<Figure size 1000x3000 with 2 Axes>"
      ],
      "image/png": "[encoded data removed]"
     },
     "metadata": {},
     "output_type": "display_data"
    }
   ],
   "execution_count": 91
  },
  {
   "cell_type": "code",
   "id": "9c30ffcd",
   "metadata": {
    "ExecuteTime": {
     "end_time": "2024-10-06T18:29:58.009662Z",
     "start_time": "2024-10-06T18:29:58.006769Z"
    }
   },
   "source": [
    "delta = get_delta(theoretical_std_deviation)\n",
    "offset_delta = get_offset_delta(sample_std_deviation)"
   ],
   "outputs": [],
   "execution_count": 92
  },
  {
   "cell_type": "code",
   "id": "b412b324",
   "metadata": {
    "ExecuteTime": {
     "end_time": "2024-10-06T18:29:58.026360Z",
     "start_time": "2024-10-06T18:29:58.022150Z"
    }
   },
   "source": [
    "from IPython.display import HTML, display\n",
    "\n",
    "val = np.square(offset_delta)\n",
    "\n",
    "def display_table(data):\n",
    "    html = \"<table>\"\n",
    "    for row in data:\n",
    "        html += \"<tr>\"\n",
    "        for field in row:\n",
    "            html += \"<td><h4>%s</h4></td>\" % (field)\n",
    "        html += \"</tr>\"\n",
    "    html += \"</table>\"\n",
    "    display(HTML(html))\n",
    "\n",
    "\n",
    "data = [['Опиcание', 'Мат ожидание', 'Дисперсия'],\n",
    "        ['Выборочно', sample_mean, sample_variance],\n",
    "        ['Теоретическое', theoretical_mean, theoretical_variance],\n",
    "        ['Доверительный интервал начало', sample_mean-delta,val[0]],\n",
    "        ['Доверительный интервал конец',sample_mean+delta,val[1]]]\n",
    "\n",
    "display_table(data)"
   ],
   "outputs": [
    {
     "data": {
      "text/plain": [
       "<IPython.core.display.HTML object>"
      ],
      "text/html": [
       "<table><tr><td><h4>Спиcание</h4></td><td><h4>Мат ожидание</h4></td><td><h4>Дисперсия</h4></td></tr><tr><td><h4>Выборочно</h4></td><td><h4>0.7644583084490714</h4></td><td><h4>0.0007210496919668356</h4></td></tr><tr><td><h4>Теоретическое</h4></td><td><h4>0.861928812542301</h4></td><td><h4>0.00707872210941818</h4></td></tr><tr><td><h4>Доверительный интервал начало</h4></td><td><h4>0.647855093470952</h4></td><td><h4>0.000143524288784140</h4></td></tr><tr><td><h4>Доверительный интервал конец</h4></td><td><h4>0.881061523427191</h4></td><td><h4>0.734214811724049</h4></td></tr></table>"
      ]
     },
     "metadata": {},
     "output_type": "display_data"
    }
   ],
   "execution_count": 93
  },
  {
   "cell_type": "code",
   "id": "15b9bc61",
   "metadata": {
    "ExecuteTime": {
     "end_time": "2024-10-06T18:29:58.042519Z",
     "start_time": "2024-10-06T18:29:58.039357Z"
    }
   },
   "source": [
    "k = number_of_dots - 2 - 1 # число степеней свободы\n",
    "critical_value = chi2.isf(hypothesis_error_value, k)\n",
    "normal_value = 0\n",
    "    \n",
    "for i in range(number_of_dots):\n",
    "    normal_value += np.square(hist[i] - results[i]) / results[i]"
   ],
   "outputs": [],
   "execution_count": 94
  },
  {
   "cell_type": "code",
   "id": "f9d2cd89",
   "metadata": {
    "scrolled": true,
    "ExecuteTime": {
     "end_time": "2024-10-06T18:29:58.058432Z",
     "start_time": "2024-10-06T18:29:58.054979Z"
    }
   },
   "source": [
    "result_for_print = \"принимаем\" if normal_value < critical_value else \"отвергаем\"\n",
    "data1 = [['Описание', 'Значение'],\n",
    "         [\"Критический хи-квадрат\",critical_value],\n",
    "         [\"хи-квадрат выборки\",normal_value],\n",
    "         [\"Гипотезу согласия\",result_for_print]]\n",
    "\n",
    "display_table(data1)\n",
    "    "
   ],
   "outputs": [
    {
     "data": {
      "text/plain": [
       "<IPython.core.display.HTML object>"
      ],
      "text/html": [
       "<table><tr><td><h4>Описание</h4></td><td><h4>Значение</h4></td></tr><tr><td><h4>Критический хи-квадрат</h4></td><td><h4>1071.568999044425</h4></td></tr><tr><td><h4>хи-квадрат выборки</h4></td><td><h4>1115.8391949872384</h4></td></tr><tr><td><h4>Гипотезу согласия</h4></td><td><h4>отвергаем</h4></td></tr></table>"
      ]
     },
     "metadata": {},
     "output_type": "display_data"
    }
   ],
   "execution_count": 95
  },
  {
   "cell_type": "markdown",
   "id": "8e65abbb",
   "metadata": {},
   "source": [
    "#### Задание 2. ИМИТАЦИЯ ДИСКРЕТНЫХ СЛУЧАЙНЫХ ВЕЛИЧИН (с заданным законом распределения)"
   ]
  },
  {
   "cell_type": "code",
   "id": "2ed3f53f",
   "metadata": {
    "ExecuteTime": {
     "end_time": "2024-10-06T18:29:58.072844Z",
     "start_time": "2024-10-06T18:29:58.070438Z"
    }
   },
   "source": [
    "inverse_function = \"\"\n",
    "distribution_expression = \"\"\n",
    "plt.rcParams[\"figure.figsize\"] = (10, 30)\n",
    "max_value1 = 40\n",
    "gamma1 = 0.95\n",
    "number_of_dots1 = 20\n",
    "hypothesis_error_value1 = 0.05"
   ],
   "outputs": [],
   "execution_count": 96
  },
  {
   "cell_type": "code",
   "id": "e76af126",
   "metadata": {
    "ExecuteTime": {
     "end_time": "2024-10-06T18:29:58.088213Z",
     "start_time": "2024-10-06T18:29:58.085744Z"
    }
   },
   "source": [
    "# случайное количество попыток до первого успеха в соответствии\n",
    "# с геометрическим распределением\n",
    "\n",
    "generator1 = CustomGenerator()\n",
    "\n",
    "\n",
    "def get_random1():\n",
    "    random_number = generator1.random()\n",
    "    \n",
    "    for i in range(max_value1):\n",
    "        probability = p_prob1 * (1 - p_prob1) ** i # геометрическое распределение\n",
    "        \n",
    "        if random_number < probability:\n",
    "            return i + 1\n",
    "        \n",
    "        random_number -= probability\n",
    "        \n",
    "    return max_value1"
   ],
   "outputs": [],
   "execution_count": 97
  },
  {
   "cell_type": "code",
   "id": "28d00819",
   "metadata": {
    "ExecuteTime": {
     "end_time": "2024-10-06T18:29:58.103148Z",
     "start_time": "2024-10-06T18:29:58.100691Z"
    }
   },
   "source": [
    "def get_random_data():\n",
    "    result = []\n",
    "    \n",
    "    for i in range(number_of_tests1):\n",
    "        result.append(get_random1())\n",
    "    \n",
    "    return result"
   ],
   "outputs": [],
   "execution_count": 98
  },
  {
   "cell_type": "code",
   "id": "44796627",
   "metadata": {
    "ExecuteTime": {
     "end_time": "2024-10-06T18:29:58.118149Z",
     "start_time": "2024-10-06T18:29:58.115981Z"
    }
   },
   "source": [
    "def get_mean(data):\n",
    "    return sum(data) / number_of_tests1\n",
    "\n",
    "def get_theoretical_mean():\n",
    "    return 1 / p_prob1"
   ],
   "outputs": [],
   "execution_count": 99
  },
  {
   "cell_type": "code",
   "id": "bd364415",
   "metadata": {
    "ExecuteTime": {
     "end_time": "2024-10-06T18:29:58.133583Z",
     "start_time": "2024-10-06T18:29:58.130887Z"
    }
   },
   "source": [
    "def get_theoretical_variance():\n",
    "    return (1 - p_prob1) / np.square(p_prob1)\n",
    "\n",
    "def get_variance(data, mean):\n",
    "    result = 0\n",
    "    \n",
    "    for item in data:\n",
    "        result += (item - mean) ** 2\n",
    "        \n",
    "    return result / number_of_tests1\n"
   ],
   "outputs": [],
   "execution_count": 100
  },
  {
   "cell_type": "code",
   "id": "a6f7fffa",
   "metadata": {
    "ExecuteTime": {
     "end_time": "2024-10-06T18:29:58.148681Z",
     "start_time": "2024-10-06T18:29:58.145618Z"
    }
   },
   "source": [
    "def get_delta1(offset):\n",
    "    t = norm.ppf(gamma1 / 2 + 0.5)\n",
    "    return t * offset / np.sqrt(number_of_tests1)\n",
    "\n",
    "def get_offset_delta1(test_offset):\n",
    "    alphas = ((1 - gamma1) / 2, (1 + gamma1) / 2)\n",
    "    chis = (chi2.isf(alphas, number_of_tests1 - 1))\n",
    "    corrected_offset = sqrt((test_offset ** 2) * number_of_tests1 / (number_of_tests1 - 1))\n",
    "    temp = np.sqrt(number_of_tests1 - 1) * corrected_offset\n",
    "    \n",
    "    return (temp / np.sqrt(chis[0]), temp / np.sqrt(chis[1]))\n"
   ],
   "outputs": [],
   "execution_count": 101
  },
  {
   "cell_type": "code",
   "id": "514d9b76",
   "metadata": {
    "ExecuteTime": {
     "end_time": "2024-10-06T18:30:07.143840Z",
     "start_time": "2024-10-06T18:29:58.161330Z"
    }
   },
   "source": [
    "number_of_tests1 = int(input(\"Введите количество значений, которые будут сгенерированы:\\n\"))\n",
    "p_prob1 = float(input(\"Введите вероятность:\\n\"))"
   ],
   "outputs": [],
   "execution_count": 102
  },
  {
   "cell_type": "code",
   "id": "15f60a3a",
   "metadata": {
    "ExecuteTime": {
     "end_time": "2024-10-06T18:31:04.128674Z",
     "start_time": "2024-10-06T18:30:07.157678Z"
    }
   },
   "source": [
    "data = get_random_data()\n",
    "mean = get_mean(data)\n",
    "theor_mean = get_theoretical_mean()\n",
    "variance = get_variance(data, mean)\n",
    "teoretical_variance = get_theoretical_variance()\n",
    "standard_deviation1 = sqrt(variance)\n",
    "theoretical_standard_deviation1 = sqrt(theoretical_variance)\n",
    "deltaone = get_delta1(theoretical_standard_deviation1)\n",
    "offset_delta1 = get_offset_delta1(standard_deviation1)"
   ],
   "outputs": [],
   "execution_count": 103
  },
  {
   "cell_type": "code",
   "id": "b0c88cea",
   "metadata": {
    "ExecuteTime": {
     "end_time": "2024-10-06T18:31:07.169128Z",
     "start_time": "2024-10-06T18:31:04.143304Z"
    }
   },
   "source": [
    "limits = (0.5, max_value1 + 0.5)\n",
    "hist, bins = np.histogram(data, bins=number_of_dots1, range=limits)\n",
    "\n",
    "length = max_value1 / number_of_dots1\n",
    "dots = np.arange(0.5 * (length + 1), max_value1 + length / 2, length)\n",
    "derivative = lambdify(x, integrate(number_of_tests1 * p_prob1 * ((1 - p_prob1) ** (x - 1)), (x, x - length / 2, x + length / 2)))\n",
    "results = list(map(derivative, dots))\n",
    "\n",
    "plt.subplot(6, 1, 2)\n",
    "        \n",
    "extra_hist = hist.copy()\n",
    "    \n",
    "for i in range(1, len(hist)):\n",
    "    extra_hist[i] += extra_hist[i-1]\n",
    "    \n",
    "ax = plt.gca()\n",
    "ax.bar(bins[:-1], extra_hist, width = length,  color = \"green\")\n",
    "plt.xlim(limits)\n",
    "    \n",
    "distribution_function = lambdify(x, number_of_tests1 * (1 - (1 - p_prob1) ** x))\n",
    "distribution_dots = np.arange(limits[0] + length, limits[1] + length / 10, length)\n",
    "    \n",
    "distribution_results = list(map(distribution_function, distribution_dots))\n",
    "plt.plot(distribution_dots, distribution_results, marker=11, color=\"black\")\n",
    "plt.title(\"Функция распределения\")\n",
    "plt.show()"
   ],
   "outputs": [
    {
     "data": {
      "text/plain": [
       "<Figure size 1000x3000 with 1 Axes>"
      ],
      "image/png": "[encoded data removed]"
     },
     "metadata": {},
     "output_type": "display_data"
    }
   ],
   "execution_count": 104
  },
  {
   "cell_type": "code",
   "id": "15981eae",
   "metadata": {
    "ExecuteTime": {
     "end_time": "2024-10-06T18:31:07.183802Z",
     "start_time": "2024-10-06T18:31:07.180515Z"
    }
   },
   "source": [
    "k = number_of_dots1 - 2 - 1\n",
    "critical_value = chi2.isf(hypothesis_error_value1, k)\n",
    "normal_value = 0\n",
    "    \n",
    "for i in range(number_of_dots1):\n",
    "    normal_value += np.square(hist[i] - results[i]) / results[i]\n",
    "    "
   ],
   "outputs": [],
   "execution_count": 105
  },
  {
   "cell_type": "code",
   "id": "3636e5dd",
   "metadata": {
    "ExecuteTime": {
     "end_time": "2024-10-06T18:31:07.258832Z",
     "start_time": "2024-10-06T18:31:07.201077Z"
    }
   },
   "source": [
    "from IPython.display import HTML, display\n",
    "\n",
    "val = np.square(offset_delta1)\n",
    "\n",
    "def display_table(data):\n",
    "    html = \"<table>\"\n",
    "    for row in data:\n",
    "        html += \"<tr>\"\n",
    "        for field in row:\n",
    "            html += \"<td><h4>%s</h4></td>\" % (field)\n",
    "        html += \"</tr>\"\n",
    "    html += \"</table>\"\n",
    "    display(HTML(html))\n",
    "\n",
    "\n",
    "data = [['Опиcание', 'Математическое ожидание', 'Дисперсия'],\n",
    "        ['Выборочно', mean, variance],\n",
    "        ['Теоретическое', theor_mean, teoretical_variance],\n",
    "        ['Доверительный начало', mean-deltaone,val[0]],\n",
    "        ['Доверительный конец',mean+deltaone,val[1]]]\n",
    "display_table(data)"
   ],
   "outputs": [
    {
     "data": {
      "text/plain": [
       "<IPython.core.display.HTML object>"
      ],
      "text/html": [
       "<table><tr><td><h4>Опиcание</h4></td><td><h4>Математическое ожидание</h4></td><td><h4>Дисперсия</h4></td></tr><tr><td><h4>Выборочно</h4></td><td><h4>2.22226323</h4></td><td><h4>2.717319125372635</h4></td></tr><tr><td><h4>Теоретическое</h4></td><td><h4>2.2222222222222223</h4></td><td><h4>2.7160493827160495</h4></td></tr><tr><td><h4>Доверительный начало</h4></td><td><h4>2.22224673981520</h4></td><td><h4>2.71656612120801</h4></td></tr><tr><td><h4>Доверительный конец</h4></td><td><h4>2.22227972018480</h4></td><td><h4>2.71807249847376</h4></td></tr></table>"
      ]
     },
     "metadata": {},
     "output_type": "display_data"
    }
   ],
   "execution_count": 106
  },
  {
   "cell_type": "code",
   "id": "11cf7f5f",
   "metadata": {
    "ExecuteTime": {
     "end_time": "2024-10-06T18:31:07.273624Z",
     "start_time": "2024-10-06T18:31:07.270402Z"
    }
   },
   "source": [
    "result_for_print = \"принимаем\" if normal_value < critical_value else \"отвергаем\"\n",
    "data1 = [['Описание', 'Значение'],\n",
    "         [\"Критический кси-квадрат\",critical_value],\n",
    "         [\"Кси-квадрат выборки\",normal_value],\n",
    "         [\"Гипотезу согласия\",result_for_print]]\n",
    "\n",
    "display_table(data1)\n",
    "    "
   ],
   "outputs": [
    {
     "data": {
      "text/plain": [
       "<IPython.core.display.HTML object>"
      ],
      "text/html": [
       "<table><tr><td><h4>Описание</h4></td><td><h4>Значение</h4></td></tr><tr><td><h4>Критический кси-квадрат</h4></td><td><h4>27.587111638275335</h4></td></tr><tr><td><h4>Кси-квадрат выборки</h4></td><td><h4>22060.692218627337</h4></td></tr><tr><td><h4>Гипотезу согласия</h4></td><td><h4>отвергаем</h4></td></tr></table>"
      ]
     },
     "metadata": {},
     "output_type": "display_data"
    }
   ],
   "execution_count": 107
  }
 ],
 "metadata": {
  "kernelspec": {
   "display_name": "Python 3 (ipykernel)",
   "language": "python",
   "name": "python3"
  },
  "language_info": {
   "codemirror_mode": {
    "name": "ipython",
    "version": 3
   },
   "file_extension": ".py",
   "mimetype": "text/x-python",
   "name": "python",
   "nbconvert_exporter": "python",
   "pygments_lexer": "ipython3",
   "version": "3.12.3"
  }
 },
 "nbformat": 4,
 "nbformat_minor": 5
}
