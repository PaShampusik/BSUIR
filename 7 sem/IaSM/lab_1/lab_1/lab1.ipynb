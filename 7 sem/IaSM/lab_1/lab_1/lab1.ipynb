{
 "cells": [
  {
   "cell_type": "code",
   "metadata": {
    "ExecuteTime": {
     "end_time": "2024-09-20T07:40:24.831081Z",
     "start_time": "2024-09-20T07:40:23.863511Z"
    }
   },
   "source": [
    "import matplotlib.pyplot as plt\n",
    "import random"
   ],
   "id": "b64d75d0a56f973a",
   "outputs": [],
   "execution_count": 1
  },
  {
   "cell_type": "code",
   "id": "798a1ea5",
   "metadata": {
    "ExecuteTime": {
     "end_time": "2024-09-20T07:40:24.876397Z",
     "start_time": "2024-09-20T07:40:24.852229Z"
    }
   },
   "source": [
    "# Линейный конгруэнтный метод \n",
    "class CustomGenerator:\n",
    "    seed = 42\n",
    "    alpha = 1664525\n",
    "    c = 1013904223\n",
    "    m = 2 ** 32\n",
    "    x_current = seed\n",
    "     \n",
    "    @staticmethod\n",
    "    def random():\n",
    "        CustomGenerator.x_current = (CustomGenerator.alpha * CustomGenerator.x_current + CustomGenerator.c) % CustomGenerator.m\n",
    "        return CustomGenerator.x_current / CustomGenerator.m"
   ],
   "outputs": [],
   "execution_count": 2
  },
  {
   "cell_type": "code",
   "id": "70a62a8b",
   "metadata": {
    "ExecuteTime": {
     "end_time": "2024-09-20T07:40:25.081902Z",
     "start_time": "2024-09-20T07:40:25.061485Z"
    }
   },
   "source": [
    "generator = CustomGenerator()\n",
    "num_samples = 10**6"
   ],
   "outputs": [],
   "execution_count": 3
  },
  {
   "cell_type": "markdown",
   "id": "5e51cf3a",
   "metadata": {},
   "source": [
    "# 1 Задание"
   ]
  },
  {
   "cell_type": "code",
   "id": "56cb3c42",
   "metadata": {
    "ExecuteTime": {
     "end_time": "2024-09-20T07:40:25.195917Z",
     "start_time": "2024-09-20T07:40:25.189763Z"
    }
   },
   "source": [
    "def task1(p):\n",
    "    return generator.random() < p\n"
   ],
   "outputs": [],
   "execution_count": 4
  },
  {
   "cell_type": "code",
   "id": "0bca8613",
   "metadata": {
    "ExecuteTime": {
     "end_time": "2024-09-20T07:40:36.832832Z",
     "start_time": "2024-09-20T07:40:25.236918Z"
    }
   },
   "source": [
    "custom_p = -1\n",
    "while not 0 <= custom_p <= 1:\n",
    "    custom_p = float(input(\"Введите вероятность от 0 до 1\\n\"))"
   ],
   "outputs": [],
   "execution_count": 5
  },
  {
   "cell_type": "code",
   "id": "fa33d43f",
   "metadata": {
    "ExecuteTime": {
     "end_time": "2024-09-20T07:40:37.576657Z",
     "start_time": "2024-09-20T07:40:36.846342Z"
    }
   },
   "source": [
    "count_true = sum(1 for _ in range(num_samples) if task1(custom_p))\n",
    "count_false = num_samples - count_true\n",
    "emperical_p = count_true / num_samples\n",
    "print(emperical_p)"
   ],
   "outputs": [
    {
     "name": "stdout",
     "output_type": "stream",
     "text": [
      "0.300202\n"
     ]
    }
   ],
   "execution_count": 6
  },
  {
   "cell_type": "code",
   "id": "1558ef25",
   "metadata": {
    "ExecuteTime": {
     "end_time": "2024-09-20T07:40:37.763644Z",
     "start_time": "2024-09-20T07:40:37.642473Z"
    }
   },
   "source": [
    "labels = ['True', 'False']\n",
    "values = [count_true / num_samples, count_false / num_samples]\n",
    "\n",
    "plt.bar(labels, values)\n",
    "plt.xlabel('Результат')\n",
    "plt.ylabel('Процент')\n",
    "plt.show()"
   ],
   "outputs": [
    {
     "data": {
      "text/plain": [
       "<Figure size 640x480 with 1 Axes>"
      ],
      "image/png": "[encoded data removed]"
     },
     "metadata": {},
     "output_type": "display_data"
    }
   ],
   "execution_count": 7
  },
  {
   "cell_type": "markdown",
   "id": "6acba8a2",
   "metadata": {},
   "source": [
    "# 2 Задание"
   ]
  },
  {
   "cell_type": "code",
   "id": "61767fd6",
   "metadata": {
    "ExecuteTime": {
     "end_time": "2024-09-20T07:40:42.544528Z",
     "start_time": "2024-09-20T07:40:37.792660Z"
    }
   },
   "source": [
    "k = -1\n",
    "while not (1 <= k): \n",
    "    k = int(input(\"input k:\\n\"))"
   ],
   "outputs": [],
   "execution_count": 8
  },
  {
   "cell_type": "code",
   "id": "6c48bd3b",
   "metadata": {
    "ExecuteTime": {
     "end_time": "2024-09-20T07:41:02.088126Z",
     "start_time": "2024-09-20T07:40:42.607365Z"
    }
   },
   "source": [
    "probabilities = []\n",
    "\n",
    "for _ in range(k):   \n",
    "    probabilities.append(float(input(\"Введите вероятность от 0 до 1\\n\")))"
   ],
   "outputs": [
    {
     "ename": "ValueError",
     "evalue": "could not convert string to float: 'щ.3'",
     "output_type": "error",
     "traceback": [
      "\u001B[1;31m---------------------------------------------------------------------------\u001B[0m",
      "\u001B[1;31mValueError\u001B[0m                                Traceback (most recent call last)",
      "Cell \u001B[1;32mIn[9], line 4\u001B[0m\n\u001B[0;32m      1\u001B[0m probabilities \u001B[38;5;241m=\u001B[39m []\n\u001B[0;32m      3\u001B[0m \u001B[38;5;28;01mfor\u001B[39;00m _ \u001B[38;5;129;01min\u001B[39;00m \u001B[38;5;28mrange\u001B[39m(k):   \n\u001B[1;32m----> 4\u001B[0m     probabilities\u001B[38;5;241m.\u001B[39mappend(\u001B[38;5;28;43mfloat\u001B[39;49m\u001B[43m(\u001B[49m\u001B[38;5;28;43minput\u001B[39;49m\u001B[43m(\u001B[49m\u001B[38;5;124;43m\"\u001B[39;49m\u001B[38;5;124;43mВведите вероятность от 0 до 1\u001B[39;49m\u001B[38;5;130;43;01m\\n\u001B[39;49;00m\u001B[38;5;124;43m\"\u001B[39;49m\u001B[43m)\u001B[49m\u001B[43m)\u001B[49m)\n",
      "\u001B[1;31mValueError\u001B[0m: could not convert string to float: 'щ.3'"
     ]
    }
   ],
   "execution_count": 9
  },
  {
   "cell_type": "code",
   "execution_count": 28,
   "id": "28617d36",
   "metadata": {},
   "outputs": [],
   "source": [
    "def task2(probabilities):\n",
    "    result = []\n",
    "    for i in range(len(probabilities)):\n",
    "        result.append(generator.random() < probabilities[i])\n",
    "    return result"
   ]
  },
  {
   "cell_type": "code",
   "execution_count": 29,
   "id": "1d0c830e",
   "metadata": {},
   "outputs": [],
   "source": [
    "count = [{True: 0, False: 0} for _ in range(len(probabilities))]\n",
    "\n",
    "for i in range(num_samples):\n",
    "    res = task2(probabilities)\n",
    "    for j in range(len(res)):\n",
    "        count[j][res[j]] += 1"
   ]
  },
  {
   "cell_type": "code",
   "execution_count": 30,
   "id": "d3b6e971",
   "metadata": {},
   "outputs": [
    {
     "name": "stdout",
     "output_type": "stream",
     "text": [
      "0.400799 0.500821 0.599802 0.899855\n"
     ]
    }
   ],
   "source": [
    "emperical_p = []\n",
    "for i in count:\n",
    "    emperical_p.append(i[True] / (i[True] + i[False]))\n",
    "print(*emperical_p)"
   ]
  },
  {
   "cell_type": "code",
   "execution_count": 31,
   "id": "c972681e",
   "metadata": {},
   "outputs": [
    {
     "data": {
      "image/png": "[encoded data removed]",
      "text/plain": [
       "<Figure size 640x480 with 1 Axes>"
      ]
     },
     "metadata": {},
     "output_type": "display_data"
    }
   ],
   "source": [
    "plt.bar([i for i in range(1, len(probabilities) + 1)], [count[i][True] / (count[i][True] + count[i][False]) for i in range(len(count))])\n",
    "\n",
    "plt.show()"
   ]
  },
  {
   "cell_type": "markdown",
   "id": "221317fa",
   "metadata": {},
   "source": [
    "# 3 Задание"
   ]
  },
  {
   "cell_type": "code",
   "execution_count": 32,
   "id": "0538f9e5",
   "metadata": {},
   "outputs": [],
   "source": [
    "p_a = -1\n",
    "while not 0 <= p_a <= 1:\n",
    "    p_a = float(input(\"Введите вероятность P(A) от 0 до 1\\n\"))"
   ]
  },
  {
   "cell_type": "code",
   "execution_count": 33,
   "id": "bb5f392c",
   "metadata": {},
   "outputs": [],
   "source": [
    "p_b_a = -1\n",
    "while not 0 <= p_b_a <= 1:\n",
    "    p_b_a = float(input(\"Введите вероятность P(B/A) от 0 до 1\\n\"))"
   ]
  },
  {
   "cell_type": "code",
   "execution_count": 34,
   "id": "a0167377",
   "metadata": {},
   "outputs": [],
   "source": [
    "def task3(p_a, p_b_a):\n",
    "    p_ab = p_a * p_b_a\n",
    "    p_a_notb = p_a * (1 - p_b_a)\n",
    "    p_nota_b = (1 - p_a) * (1 - p_b_a)\n",
    "    p_nota_notb = p_b_a * (1 - p_a)\n",
    "\n",
    "    r = generator.random()\n",
    "    if r <= p_ab:\n",
    "        return 0\n",
    "    elif r <= p_a_notb + p_ab:\n",
    "        return 1\n",
    "    elif r <= p_a_notb + p_ab + p_nota_b:\n",
    "        return 2\n",
    "    elif r <= p_a_notb + p_ab + p_nota_b + p_nota_notb:\n",
    "        return 3"
   ]
  },
  {
   "cell_type": "code",
   "execution_count": 35,
   "id": "d101defe",
   "metadata": {},
   "outputs": [],
   "source": [
    "count = {i: 0 for i in range(4)}\n",
    "\n",
    "for i in range(num_samples):\n",
    "    count[task3(p_a, p_b_a)] += 1"
   ]
  },
  {
   "cell_type": "code",
   "execution_count": 36,
   "id": "ddf42cb6",
   "metadata": {},
   "outputs": [
    {
     "data": {
      "image/png": "[encoded data removed]",
      "text/plain": [
       "<Figure size 640x480 with 1 Axes>"
      ]
     },
     "metadata": {},
     "output_type": "display_data"
    }
   ],
   "source": [
    "plt.bar([str(i) for i in range(4)], \n",
    "        [count[i] / num_samples for i in range(4)])\n",
    "plt.show()"
   ]
  },
  {
   "cell_type": "code",
   "execution_count": 37,
   "id": "b5df5cd6",
   "metadata": {},
   "outputs": [
    {
     "name": "stdout",
     "output_type": "stream",
     "text": [
      "0.120013 0.280299 0.419603 0.180085\n"
     ]
    }
   ],
   "source": [
    "emperical_p = [count[i] / num_samples for i in range(4)]\n",
    "print(*emperical_p)"
   ]
  },
  {
   "cell_type": "markdown",
   "id": "3e50cf95",
   "metadata": {},
   "source": [
    "# 4 Задание"
   ]
  },
  {
   "cell_type": "code",
   "execution_count": 38,
   "id": "b2fbf2b5",
   "metadata": {},
   "outputs": [],
   "source": [
    "k = -1\n",
    "while not (1 <= k): \n",
    "    k = int(input(\"input k:\\n\"))"
   ]
  },
  {
   "cell_type": "code",
   "execution_count": 42,
   "id": "877fcf03",
   "metadata": {},
   "outputs": [],
   "source": [
    "probabilities = []\n",
    "\n",
    "while sum(probabilities) != 1:\n",
    "    for _ in range(k):\n",
    "        probabilities.append(float(input()))"
   ]
  },
  {
   "cell_type": "code",
   "execution_count": 43,
   "id": "d25ae916",
   "metadata": {},
   "outputs": [],
   "source": [
    "def task4(probabilities):\n",
    "    s = probabilities[0]\n",
    "    step = 0\n",
    "    r = generator.random()\n",
    "    while True:\n",
    "        if r <= s:\n",
    "            return step\n",
    "        else:\n",
    "            step += 1\n",
    "            s += probabilities[step]"
   ]
  },
  {
   "cell_type": "code",
   "execution_count": 44,
   "id": "230551cc",
   "metadata": {},
   "outputs": [],
   "source": [
    "\n",
    "\n",
    "count = {i: 0 for i in range(len(probabilities))}\n",
    "\n",
    "for i in range(num_samples):\n",
    "    count[task4(probabilities)] += 1\n",
    "\n"
   ]
  },
  {
   "cell_type": "code",
   "execution_count": 45,
   "id": "c1cb3901",
   "metadata": {},
   "outputs": [
    {
     "name": "stdout",
     "output_type": "stream",
     "text": [
      "0.399999 0.600001\n"
     ]
    }
   ],
   "source": [
    "emperical_p = []\n",
    "for i in count:\n",
    "    emperical_p.append(count[i] / num_samples)\n",
    "print(*emperical_p)"
   ]
  },
  {
   "cell_type": "code",
   "execution_count": 46,
   "id": "6bd98d90",
   "metadata": {},
   "outputs": [
    {
     "data": {
      "image/png": "[encoded data removed]",
      "text/plain": [
       "<Figure size 640x480 with 1 Axes>"
      ]
     },
     "metadata": {},
     "output_type": "display_data"
    }
   ],
   "source": [
    "plt.bar([str(i) for i in range(len(count))], \n",
    "        [count[i] / num_samples for i in range(len(count))])\n",
    "plt.show()"
   ]
  },
  {
   "cell_type": "markdown",
   "id": "000715d7",
   "metadata": {},
   "source": [
    "# Дополнительное задание"
   ]
  },
  {
   "cell_type": "code",
   "execution_count": 47,
   "id": "c4c8957b",
   "metadata": {},
   "outputs": [],
   "source": [
    "k = int(input(\"input k\\n\"))"
   ]
  },
  {
   "cell_type": "code",
   "execution_count": 48,
   "id": "cffd06cb",
   "metadata": {},
   "outputs": [],
   "source": [
    "rate = []\n",
    "\n",
    "for i in range(2 ** k):\n",
    "    rate.append(int(input(f\"input rate of team number {i + 1} \\n\")))"
   ]
  },
  {
   "cell_type": "code",
   "execution_count": 49,
   "id": "b5ae1eaf",
   "metadata": {},
   "outputs": [
    {
     "name": "stdout",
     "output_type": "stream",
     "text": [
      "\n",
      "round number 1\n",
      "team 2 vs team 4\n",
      "team number won - 4\n",
      "team 1 vs team 3\n",
      "team number won - 1\n",
      "move to the next round teams: 1, 4\n",
      "lose teams: 2, 3\n",
      "\n",
      "round number 2\n",
      "team 1 vs team 4\n",
      "team number won - 1\n",
      "move to the next round teams: 1\n",
      "lose teams: 4\n",
      "\n",
      "\n",
      "winner - team 1\n"
     ]
    }
   ],
   "source": [
    "playing_teams = [i + 1 for i in range(2 ** k)]\n",
    "\n",
    "for i in range(k):\n",
    "    temp_live_temp = []\n",
    "    random.shuffle(playing_teams)\n",
    "    print(f'\\nround number {i + 1}')\n",
    "    \n",
    "    for j in range(2 ** (k - i - 1)):\n",
    "        first, second = j, 2 ** (k - i) - j - 1\n",
    "        print(f'team {playing_teams[first]} vs team {playing_teams[second]}')\n",
    "        common_rate = rate[playing_teams[first] - 1] + rate[playing_teams[second] - 1]\n",
    "        res = task4([rate[playing_teams[first] - 1] / common_rate, rate[playing_teams[second] - 1] / common_rate])\n",
    "        number_win = {0: playing_teams[j], 1: playing_teams[2 ** (k - i) - j - 1]}\n",
    "        print(f'team number won - {number_win[res]}')\n",
    "        temp_live_temp.append(number_win[res])\n",
    "    \n",
    "    move = ', '.join(map(str, sorted(temp_live_temp)))   \n",
    "    lose = ', '.join(map(str, sorted(set(playing_teams) - set(temp_live_temp))))\n",
    "    print(f'move to the next round teams: {move}')\n",
    "    print(f'lose teams: {lose}')\n",
    "    playing_teams = temp_live_temp\n",
    "\n",
    "print(f'\\n\\nwi1nner - team {playing_teams[0]}')"
   ]
  },
  {
   "cell_type": "code",
   "execution_count": null,
   "id": "c69df385",
   "metadata": {},
   "outputs": [],
   "source": []
  }
 ],
 "metadata": {
  "kernelspec": {
   "display_name": "venv",
   "language": "python",
   "name": "python3"
  },
  "language_info": {
   "codemirror_mode": {
    "name": "ipython",
    "version": 3
   },
   "file_extension": ".py",
   "mimetype": "text/x-python",
   "name": "python",
   "nbconvert_exporter": "python",
   "pygments_lexer": "ipython3",
   "version": "3.12.3"
  }
 },
 "nbformat": 4,
 "nbformat_minor": 5
}
